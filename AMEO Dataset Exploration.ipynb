{
 "cells": [
  {
   "cell_type": "code",
   "execution_count": 1,
   "id": "2b9d8f18",
   "metadata": {},
   "outputs": [],
   "source": [
    "import pandas as pd\n",
    "import numpy as np\n",
    "import seaborn as sns"
   ]
  },
  {
   "cell_type": "code",
   "execution_count": 2,
   "id": "b9b46820",
   "metadata": {},
   "outputs": [],
   "source": [
    "df = pd.read_excel('/Users/mac/Downloads/aspiring_minds_employability_outcomes_2015.xlsx')"
   ]
  },
  {
   "cell_type": "markdown",
   "id": "28c6ad47",
   "metadata": {},
   "source": [
    "## Getting familiar with the dataset"
   ]
  },
  {
   "cell_type": "code",
   "execution_count": 7,
   "id": "6e79c1a2",
   "metadata": {},
   "outputs": [
    {
     "name": "stdout",
     "output_type": "stream",
     "text": [
      "<class 'pandas.core.frame.DataFrame'>\n",
      "RangeIndex: 3998 entries, 0 to 3997\n",
      "Data columns (total 39 columns):\n",
      " #   Column                 Non-Null Count  Dtype         \n",
      "---  ------                 --------------  -----         \n",
      " 0   Unnamed: 0             3998 non-null   object        \n",
      " 1   ID                     3998 non-null   int64         \n",
      " 2   Salary                 3998 non-null   int64         \n",
      " 3   DOJ                    3998 non-null   datetime64[ns]\n",
      " 4   DOL                    3998 non-null   object        \n",
      " 5   Designation            3998 non-null   object        \n",
      " 6   JobCity                3998 non-null   object        \n",
      " 7   Gender                 3998 non-null   object        \n",
      " 8   DOB                    3998 non-null   datetime64[ns]\n",
      " 9   10percentage           3998 non-null   float64       \n",
      " 10  10board                3998 non-null   object        \n",
      " 11  12graduation           3998 non-null   int64         \n",
      " 12  12percentage           3998 non-null   float64       \n",
      " 13  12board                3998 non-null   object        \n",
      " 14  CollegeID              3998 non-null   int64         \n",
      " 15  CollegeTier            3998 non-null   int64         \n",
      " 16  Degree                 3998 non-null   object        \n",
      " 17  Specialization         3998 non-null   object        \n",
      " 18  collegeGPA             3998 non-null   float64       \n",
      " 19  CollegeCityID          3998 non-null   int64         \n",
      " 20  CollegeCityTier        3998 non-null   int64         \n",
      " 21  CollegeState           3998 non-null   object        \n",
      " 22  GraduationYear         3998 non-null   int64         \n",
      " 23  English                3998 non-null   int64         \n",
      " 24  Logical                3998 non-null   int64         \n",
      " 25  Quant                  3998 non-null   int64         \n",
      " 26  Domain                 3998 non-null   float64       \n",
      " 27  ComputerProgramming    3998 non-null   int64         \n",
      " 28  ElectronicsAndSemicon  3998 non-null   int64         \n",
      " 29  ComputerScience        3998 non-null   int64         \n",
      " 30  MechanicalEngg         3998 non-null   int64         \n",
      " 31  ElectricalEngg         3998 non-null   int64         \n",
      " 32  TelecomEngg            3998 non-null   int64         \n",
      " 33  CivilEngg              3998 non-null   int64         \n",
      " 34  conscientiousness      3998 non-null   float64       \n",
      " 35  agreeableness          3998 non-null   float64       \n",
      " 36  extraversion           3998 non-null   float64       \n",
      " 37  nueroticism            3998 non-null   float64       \n",
      " 38  openess_to_experience  3998 non-null   float64       \n",
      "dtypes: datetime64[ns](2), float64(9), int64(18), object(10)\n",
      "memory usage: 1.2+ MB\n"
     ]
    }
   ],
   "source": [
    "df.info()"
   ]
  },
  {
   "cell_type": "code",
   "execution_count": 9,
   "id": "40c28cd6",
   "metadata": {},
   "outputs": [
    {
     "data": {
      "text/html": [
       "<div>\n",
       "<style scoped>\n",
       "    .dataframe tbody tr th:only-of-type {\n",
       "        vertical-align: middle;\n",
       "    }\n",
       "\n",
       "    .dataframe tbody tr th {\n",
       "        vertical-align: top;\n",
       "    }\n",
       "\n",
       "    .dataframe thead th {\n",
       "        text-align: right;\n",
       "    }\n",
       "</style>\n",
       "<table border=\"1\" class=\"dataframe\">\n",
       "  <thead>\n",
       "    <tr style=\"text-align: right;\">\n",
       "      <th></th>\n",
       "      <th>Unnamed: 0</th>\n",
       "      <th>ID</th>\n",
       "      <th>Salary</th>\n",
       "      <th>DOJ</th>\n",
       "      <th>DOL</th>\n",
       "      <th>Designation</th>\n",
       "      <th>JobCity</th>\n",
       "      <th>Gender</th>\n",
       "      <th>DOB</th>\n",
       "      <th>10percentage</th>\n",
       "      <th>10board</th>\n",
       "      <th>12graduation</th>\n",
       "      <th>12percentage</th>\n",
       "      <th>12board</th>\n",
       "      <th>CollegeID</th>\n",
       "      <th>CollegeTier</th>\n",
       "      <th>Degree</th>\n",
       "      <th>Specialization</th>\n",
       "      <th>collegeGPA</th>\n",
       "      <th>CollegeCityID</th>\n",
       "      <th>CollegeCityTier</th>\n",
       "      <th>CollegeState</th>\n",
       "      <th>GraduationYear</th>\n",
       "      <th>English</th>\n",
       "      <th>Logical</th>\n",
       "      <th>Quant</th>\n",
       "      <th>Domain</th>\n",
       "      <th>ComputerProgramming</th>\n",
       "      <th>ElectronicsAndSemicon</th>\n",
       "      <th>ComputerScience</th>\n",
       "      <th>MechanicalEngg</th>\n",
       "      <th>ElectricalEngg</th>\n",
       "      <th>TelecomEngg</th>\n",
       "      <th>CivilEngg</th>\n",
       "      <th>conscientiousness</th>\n",
       "      <th>agreeableness</th>\n",
       "      <th>extraversion</th>\n",
       "      <th>nueroticism</th>\n",
       "      <th>openess_to_experience</th>\n",
       "    </tr>\n",
       "  </thead>\n",
       "  <tbody>\n",
       "    <tr>\n",
       "      <th>0</th>\n",
       "      <td>train</td>\n",
       "      <td>203097</td>\n",
       "      <td>420000</td>\n",
       "      <td>2012-06-01</td>\n",
       "      <td>present</td>\n",
       "      <td>senior quality engineer</td>\n",
       "      <td>Bangalore</td>\n",
       "      <td>f</td>\n",
       "      <td>1990-02-19</td>\n",
       "      <td>84.3</td>\n",
       "      <td>board ofsecondary education,ap</td>\n",
       "      <td>2007</td>\n",
       "      <td>95.8</td>\n",
       "      <td>board of intermediate education,ap</td>\n",
       "      <td>1141</td>\n",
       "      <td>2</td>\n",
       "      <td>B.Tech/B.E.</td>\n",
       "      <td>computer engineering</td>\n",
       "      <td>78.00</td>\n",
       "      <td>1141</td>\n",
       "      <td>0</td>\n",
       "      <td>Andhra Pradesh</td>\n",
       "      <td>2011</td>\n",
       "      <td>515</td>\n",
       "      <td>585</td>\n",
       "      <td>525</td>\n",
       "      <td>0.635979</td>\n",
       "      <td>445</td>\n",
       "      <td>-1</td>\n",
       "      <td>-1</td>\n",
       "      <td>-1</td>\n",
       "      <td>-1</td>\n",
       "      <td>-1</td>\n",
       "      <td>-1</td>\n",
       "      <td>0.9737</td>\n",
       "      <td>0.8128</td>\n",
       "      <td>0.5269</td>\n",
       "      <td>1.35490</td>\n",
       "      <td>-0.4455</td>\n",
       "    </tr>\n",
       "    <tr>\n",
       "      <th>1</th>\n",
       "      <td>train</td>\n",
       "      <td>579905</td>\n",
       "      <td>500000</td>\n",
       "      <td>2013-09-01</td>\n",
       "      <td>present</td>\n",
       "      <td>assistant manager</td>\n",
       "      <td>Indore</td>\n",
       "      <td>m</td>\n",
       "      <td>1989-10-04</td>\n",
       "      <td>85.4</td>\n",
       "      <td>cbse</td>\n",
       "      <td>2007</td>\n",
       "      <td>85.0</td>\n",
       "      <td>cbse</td>\n",
       "      <td>5807</td>\n",
       "      <td>2</td>\n",
       "      <td>B.Tech/B.E.</td>\n",
       "      <td>electronics and communication engineering</td>\n",
       "      <td>70.06</td>\n",
       "      <td>5807</td>\n",
       "      <td>0</td>\n",
       "      <td>Madhya Pradesh</td>\n",
       "      <td>2012</td>\n",
       "      <td>695</td>\n",
       "      <td>610</td>\n",
       "      <td>780</td>\n",
       "      <td>0.960603</td>\n",
       "      <td>-1</td>\n",
       "      <td>466</td>\n",
       "      <td>-1</td>\n",
       "      <td>-1</td>\n",
       "      <td>-1</td>\n",
       "      <td>-1</td>\n",
       "      <td>-1</td>\n",
       "      <td>-0.7335</td>\n",
       "      <td>0.3789</td>\n",
       "      <td>1.2396</td>\n",
       "      <td>-0.10760</td>\n",
       "      <td>0.8637</td>\n",
       "    </tr>\n",
       "    <tr>\n",
       "      <th>2</th>\n",
       "      <td>train</td>\n",
       "      <td>810601</td>\n",
       "      <td>325000</td>\n",
       "      <td>2014-06-01</td>\n",
       "      <td>present</td>\n",
       "      <td>systems engineer</td>\n",
       "      <td>Chennai</td>\n",
       "      <td>f</td>\n",
       "      <td>1992-08-03</td>\n",
       "      <td>85.0</td>\n",
       "      <td>cbse</td>\n",
       "      <td>2010</td>\n",
       "      <td>68.2</td>\n",
       "      <td>cbse</td>\n",
       "      <td>64</td>\n",
       "      <td>2</td>\n",
       "      <td>B.Tech/B.E.</td>\n",
       "      <td>information technology</td>\n",
       "      <td>70.00</td>\n",
       "      <td>64</td>\n",
       "      <td>0</td>\n",
       "      <td>Uttar Pradesh</td>\n",
       "      <td>2014</td>\n",
       "      <td>615</td>\n",
       "      <td>545</td>\n",
       "      <td>370</td>\n",
       "      <td>0.450877</td>\n",
       "      <td>395</td>\n",
       "      <td>-1</td>\n",
       "      <td>-1</td>\n",
       "      <td>-1</td>\n",
       "      <td>-1</td>\n",
       "      <td>-1</td>\n",
       "      <td>-1</td>\n",
       "      <td>0.2718</td>\n",
       "      <td>1.7109</td>\n",
       "      <td>0.1637</td>\n",
       "      <td>-0.86820</td>\n",
       "      <td>0.6721</td>\n",
       "    </tr>\n",
       "    <tr>\n",
       "      <th>3</th>\n",
       "      <td>train</td>\n",
       "      <td>267447</td>\n",
       "      <td>1100000</td>\n",
       "      <td>2011-07-01</td>\n",
       "      <td>present</td>\n",
       "      <td>senior software engineer</td>\n",
       "      <td>Gurgaon</td>\n",
       "      <td>m</td>\n",
       "      <td>1989-12-05</td>\n",
       "      <td>85.6</td>\n",
       "      <td>cbse</td>\n",
       "      <td>2007</td>\n",
       "      <td>83.6</td>\n",
       "      <td>cbse</td>\n",
       "      <td>6920</td>\n",
       "      <td>1</td>\n",
       "      <td>B.Tech/B.E.</td>\n",
       "      <td>computer engineering</td>\n",
       "      <td>74.64</td>\n",
       "      <td>6920</td>\n",
       "      <td>1</td>\n",
       "      <td>Delhi</td>\n",
       "      <td>2011</td>\n",
       "      <td>635</td>\n",
       "      <td>585</td>\n",
       "      <td>625</td>\n",
       "      <td>0.974396</td>\n",
       "      <td>615</td>\n",
       "      <td>-1</td>\n",
       "      <td>-1</td>\n",
       "      <td>-1</td>\n",
       "      <td>-1</td>\n",
       "      <td>-1</td>\n",
       "      <td>-1</td>\n",
       "      <td>0.0464</td>\n",
       "      <td>0.3448</td>\n",
       "      <td>-0.3440</td>\n",
       "      <td>-0.40780</td>\n",
       "      <td>-0.9194</td>\n",
       "    </tr>\n",
       "    <tr>\n",
       "      <th>4</th>\n",
       "      <td>train</td>\n",
       "      <td>343523</td>\n",
       "      <td>200000</td>\n",
       "      <td>2014-03-01</td>\n",
       "      <td>2015-03-01 00:00:00</td>\n",
       "      <td>get</td>\n",
       "      <td>Manesar</td>\n",
       "      <td>m</td>\n",
       "      <td>1991-02-27</td>\n",
       "      <td>78.0</td>\n",
       "      <td>cbse</td>\n",
       "      <td>2008</td>\n",
       "      <td>76.8</td>\n",
       "      <td>cbse</td>\n",
       "      <td>11368</td>\n",
       "      <td>2</td>\n",
       "      <td>B.Tech/B.E.</td>\n",
       "      <td>electronics and communication engineering</td>\n",
       "      <td>73.90</td>\n",
       "      <td>11368</td>\n",
       "      <td>0</td>\n",
       "      <td>Uttar Pradesh</td>\n",
       "      <td>2012</td>\n",
       "      <td>545</td>\n",
       "      <td>625</td>\n",
       "      <td>465</td>\n",
       "      <td>0.124502</td>\n",
       "      <td>-1</td>\n",
       "      <td>233</td>\n",
       "      <td>-1</td>\n",
       "      <td>-1</td>\n",
       "      <td>-1</td>\n",
       "      <td>-1</td>\n",
       "      <td>-1</td>\n",
       "      <td>-0.8810</td>\n",
       "      <td>-0.2793</td>\n",
       "      <td>-1.0697</td>\n",
       "      <td>0.09163</td>\n",
       "      <td>-0.1295</td>\n",
       "    </tr>\n",
       "  </tbody>\n",
       "</table>\n",
       "</div>"
      ],
      "text/plain": [
       "  Unnamed: 0      ID   Salary        DOJ                  DOL  \\\n",
       "0      train  203097   420000 2012-06-01              present   \n",
       "1      train  579905   500000 2013-09-01              present   \n",
       "2      train  810601   325000 2014-06-01              present   \n",
       "3      train  267447  1100000 2011-07-01              present   \n",
       "4      train  343523   200000 2014-03-01  2015-03-01 00:00:00   \n",
       "\n",
       "                Designation    JobCity Gender        DOB  10percentage  \\\n",
       "0   senior quality engineer  Bangalore      f 1990-02-19          84.3   \n",
       "1         assistant manager     Indore      m 1989-10-04          85.4   \n",
       "2          systems engineer    Chennai      f 1992-08-03          85.0   \n",
       "3  senior software engineer    Gurgaon      m 1989-12-05          85.6   \n",
       "4                       get    Manesar      m 1991-02-27          78.0   \n",
       "\n",
       "                          10board  12graduation  12percentage  \\\n",
       "0  board ofsecondary education,ap          2007          95.8   \n",
       "1                            cbse          2007          85.0   \n",
       "2                            cbse          2010          68.2   \n",
       "3                            cbse          2007          83.6   \n",
       "4                            cbse          2008          76.8   \n",
       "\n",
       "                              12board  CollegeID  CollegeTier       Degree  \\\n",
       "0  board of intermediate education,ap       1141            2  B.Tech/B.E.   \n",
       "1                                cbse       5807            2  B.Tech/B.E.   \n",
       "2                                cbse         64            2  B.Tech/B.E.   \n",
       "3                                cbse       6920            1  B.Tech/B.E.   \n",
       "4                                cbse      11368            2  B.Tech/B.E.   \n",
       "\n",
       "                              Specialization  collegeGPA  CollegeCityID  \\\n",
       "0                       computer engineering       78.00           1141   \n",
       "1  electronics and communication engineering       70.06           5807   \n",
       "2                     information technology       70.00             64   \n",
       "3                       computer engineering       74.64           6920   \n",
       "4  electronics and communication engineering       73.90          11368   \n",
       "\n",
       "   CollegeCityTier    CollegeState  GraduationYear  English  Logical  Quant  \\\n",
       "0                0  Andhra Pradesh            2011      515      585    525   \n",
       "1                0  Madhya Pradesh            2012      695      610    780   \n",
       "2                0   Uttar Pradesh            2014      615      545    370   \n",
       "3                1           Delhi            2011      635      585    625   \n",
       "4                0   Uttar Pradesh            2012      545      625    465   \n",
       "\n",
       "     Domain  ComputerProgramming  ElectronicsAndSemicon  ComputerScience  \\\n",
       "0  0.635979                  445                     -1               -1   \n",
       "1  0.960603                   -1                    466               -1   \n",
       "2  0.450877                  395                     -1               -1   \n",
       "3  0.974396                  615                     -1               -1   \n",
       "4  0.124502                   -1                    233               -1   \n",
       "\n",
       "   MechanicalEngg  ElectricalEngg  TelecomEngg  CivilEngg  conscientiousness  \\\n",
       "0              -1              -1           -1         -1             0.9737   \n",
       "1              -1              -1           -1         -1            -0.7335   \n",
       "2              -1              -1           -1         -1             0.2718   \n",
       "3              -1              -1           -1         -1             0.0464   \n",
       "4              -1              -1           -1         -1            -0.8810   \n",
       "\n",
       "   agreeableness  extraversion  nueroticism  openess_to_experience  \n",
       "0         0.8128        0.5269      1.35490                -0.4455  \n",
       "1         0.3789        1.2396     -0.10760                 0.8637  \n",
       "2         1.7109        0.1637     -0.86820                 0.6721  \n",
       "3         0.3448       -0.3440     -0.40780                -0.9194  \n",
       "4        -0.2793       -1.0697      0.09163                -0.1295  "
      ]
     },
     "execution_count": 9,
     "metadata": {},
     "output_type": "execute_result"
    }
   ],
   "source": [
    "pd.set_option('display.max_columns',38)\n",
    "df.head(5)"
   ]
  },
  {
   "cell_type": "code",
   "execution_count": 11,
   "id": "a4aa036b",
   "metadata": {},
   "outputs": [],
   "source": [
    "#clean the column names\n",
    "df.rename(columns={'10board':'Grade10_board','12graduation':'Graduation_year','12percentage':'Graduation_marks','12board':'Graduation_board','10percentage':'Grade10_marks'}, inplace=True)"
   ]
  },
  {
   "cell_type": "code",
   "execution_count": 22,
   "id": "d63b8bb5",
   "metadata": {},
   "outputs": [
    {
     "data": {
      "text/plain": [
       "Index(['Unnamed: 0', 'ID', 'Salary', 'DOJ', 'DOL', 'Designation', 'JobCity',\n",
       "       'Gender', 'DOB', 'Grade10_marks', 'Grade10_board', 'Graduation_year',\n",
       "       'Graduation_marks', 'Graduation_board', 'CollegeID', 'CollegeTier',\n",
       "       'Degree', 'Specialization', 'collegeGPA', 'CollegeCityID',\n",
       "       'CollegeCityTier', 'CollegeState', 'GraduationYear', 'English',\n",
       "       'Logical', 'Quant', 'Domain', 'ComputerProgramming',\n",
       "       'ElectronicsAndSemicon', 'ComputerScience', 'MechanicalEngg',\n",
       "       'ElectricalEngg', 'TelecomEngg', 'CivilEngg', 'conscientiousness',\n",
       "       'agreeableness', 'extraversion', 'nueroticism',\n",
       "       'openess_to_experience'],\n",
       "      dtype='object')"
      ]
     },
     "execution_count": 22,
     "metadata": {},
     "output_type": "execute_result"
    }
   ],
   "source": [
    "df.columns"
   ]
  },
  {
   "cell_type": "code",
   "execution_count": 24,
   "id": "a882dc39",
   "metadata": {},
   "outputs": [],
   "source": [
    "#drop the irrelevant columns\n",
    "df=df.drop('Unnamed: 0',axis=1)"
   ]
  },
  {
   "cell_type": "code",
   "execution_count": 25,
   "id": "5411e49b",
   "metadata": {},
   "outputs": [
    {
     "data": {
      "text/html": [
       "<div>\n",
       "<style scoped>\n",
       "    .dataframe tbody tr th:only-of-type {\n",
       "        vertical-align: middle;\n",
       "    }\n",
       "\n",
       "    .dataframe tbody tr th {\n",
       "        vertical-align: top;\n",
       "    }\n",
       "\n",
       "    .dataframe thead th {\n",
       "        text-align: right;\n",
       "    }\n",
       "</style>\n",
       "<table border=\"1\" class=\"dataframe\">\n",
       "  <thead>\n",
       "    <tr style=\"text-align: right;\">\n",
       "      <th></th>\n",
       "      <th>ID</th>\n",
       "      <th>Salary</th>\n",
       "      <th>DOJ</th>\n",
       "      <th>DOL</th>\n",
       "      <th>Designation</th>\n",
       "      <th>JobCity</th>\n",
       "      <th>Gender</th>\n",
       "      <th>DOB</th>\n",
       "      <th>Grade10_marks</th>\n",
       "      <th>Grade10_board</th>\n",
       "      <th>Graduation_year</th>\n",
       "      <th>Graduation_marks</th>\n",
       "      <th>Graduation_board</th>\n",
       "      <th>CollegeID</th>\n",
       "      <th>CollegeTier</th>\n",
       "      <th>Degree</th>\n",
       "      <th>Specialization</th>\n",
       "      <th>collegeGPA</th>\n",
       "      <th>CollegeCityID</th>\n",
       "      <th>CollegeCityTier</th>\n",
       "      <th>CollegeState</th>\n",
       "      <th>GraduationYear</th>\n",
       "      <th>English</th>\n",
       "      <th>Logical</th>\n",
       "      <th>Quant</th>\n",
       "      <th>Domain</th>\n",
       "      <th>ComputerProgramming</th>\n",
       "      <th>ElectronicsAndSemicon</th>\n",
       "      <th>ComputerScience</th>\n",
       "      <th>MechanicalEngg</th>\n",
       "      <th>ElectricalEngg</th>\n",
       "      <th>TelecomEngg</th>\n",
       "      <th>CivilEngg</th>\n",
       "      <th>conscientiousness</th>\n",
       "      <th>agreeableness</th>\n",
       "      <th>extraversion</th>\n",
       "      <th>nueroticism</th>\n",
       "      <th>openess_to_experience</th>\n",
       "    </tr>\n",
       "  </thead>\n",
       "  <tbody>\n",
       "    <tr>\n",
       "      <th>0</th>\n",
       "      <td>203097</td>\n",
       "      <td>420000</td>\n",
       "      <td>2012-06-01</td>\n",
       "      <td>present</td>\n",
       "      <td>senior quality engineer</td>\n",
       "      <td>Bangalore</td>\n",
       "      <td>f</td>\n",
       "      <td>1990-02-19</td>\n",
       "      <td>84.3</td>\n",
       "      <td>board ofsecondary education,ap</td>\n",
       "      <td>2007</td>\n",
       "      <td>95.8</td>\n",
       "      <td>board of intermediate education,ap</td>\n",
       "      <td>1141</td>\n",
       "      <td>2</td>\n",
       "      <td>B.Tech/B.E.</td>\n",
       "      <td>computer engineering</td>\n",
       "      <td>78.00</td>\n",
       "      <td>1141</td>\n",
       "      <td>0</td>\n",
       "      <td>Andhra Pradesh</td>\n",
       "      <td>2011</td>\n",
       "      <td>515</td>\n",
       "      <td>585</td>\n",
       "      <td>525</td>\n",
       "      <td>0.635979</td>\n",
       "      <td>445</td>\n",
       "      <td>-1</td>\n",
       "      <td>-1</td>\n",
       "      <td>-1</td>\n",
       "      <td>-1</td>\n",
       "      <td>-1</td>\n",
       "      <td>-1</td>\n",
       "      <td>0.9737</td>\n",
       "      <td>0.8128</td>\n",
       "      <td>0.5269</td>\n",
       "      <td>1.35490</td>\n",
       "      <td>-0.4455</td>\n",
       "    </tr>\n",
       "    <tr>\n",
       "      <th>1</th>\n",
       "      <td>579905</td>\n",
       "      <td>500000</td>\n",
       "      <td>2013-09-01</td>\n",
       "      <td>present</td>\n",
       "      <td>assistant manager</td>\n",
       "      <td>Indore</td>\n",
       "      <td>m</td>\n",
       "      <td>1989-10-04</td>\n",
       "      <td>85.4</td>\n",
       "      <td>cbse</td>\n",
       "      <td>2007</td>\n",
       "      <td>85.0</td>\n",
       "      <td>cbse</td>\n",
       "      <td>5807</td>\n",
       "      <td>2</td>\n",
       "      <td>B.Tech/B.E.</td>\n",
       "      <td>electronics and communication engineering</td>\n",
       "      <td>70.06</td>\n",
       "      <td>5807</td>\n",
       "      <td>0</td>\n",
       "      <td>Madhya Pradesh</td>\n",
       "      <td>2012</td>\n",
       "      <td>695</td>\n",
       "      <td>610</td>\n",
       "      <td>780</td>\n",
       "      <td>0.960603</td>\n",
       "      <td>-1</td>\n",
       "      <td>466</td>\n",
       "      <td>-1</td>\n",
       "      <td>-1</td>\n",
       "      <td>-1</td>\n",
       "      <td>-1</td>\n",
       "      <td>-1</td>\n",
       "      <td>-0.7335</td>\n",
       "      <td>0.3789</td>\n",
       "      <td>1.2396</td>\n",
       "      <td>-0.10760</td>\n",
       "      <td>0.8637</td>\n",
       "    </tr>\n",
       "    <tr>\n",
       "      <th>2</th>\n",
       "      <td>810601</td>\n",
       "      <td>325000</td>\n",
       "      <td>2014-06-01</td>\n",
       "      <td>present</td>\n",
       "      <td>systems engineer</td>\n",
       "      <td>Chennai</td>\n",
       "      <td>f</td>\n",
       "      <td>1992-08-03</td>\n",
       "      <td>85.0</td>\n",
       "      <td>cbse</td>\n",
       "      <td>2010</td>\n",
       "      <td>68.2</td>\n",
       "      <td>cbse</td>\n",
       "      <td>64</td>\n",
       "      <td>2</td>\n",
       "      <td>B.Tech/B.E.</td>\n",
       "      <td>information technology</td>\n",
       "      <td>70.00</td>\n",
       "      <td>64</td>\n",
       "      <td>0</td>\n",
       "      <td>Uttar Pradesh</td>\n",
       "      <td>2014</td>\n",
       "      <td>615</td>\n",
       "      <td>545</td>\n",
       "      <td>370</td>\n",
       "      <td>0.450877</td>\n",
       "      <td>395</td>\n",
       "      <td>-1</td>\n",
       "      <td>-1</td>\n",
       "      <td>-1</td>\n",
       "      <td>-1</td>\n",
       "      <td>-1</td>\n",
       "      <td>-1</td>\n",
       "      <td>0.2718</td>\n",
       "      <td>1.7109</td>\n",
       "      <td>0.1637</td>\n",
       "      <td>-0.86820</td>\n",
       "      <td>0.6721</td>\n",
       "    </tr>\n",
       "    <tr>\n",
       "      <th>3</th>\n",
       "      <td>267447</td>\n",
       "      <td>1100000</td>\n",
       "      <td>2011-07-01</td>\n",
       "      <td>present</td>\n",
       "      <td>senior software engineer</td>\n",
       "      <td>Gurgaon</td>\n",
       "      <td>m</td>\n",
       "      <td>1989-12-05</td>\n",
       "      <td>85.6</td>\n",
       "      <td>cbse</td>\n",
       "      <td>2007</td>\n",
       "      <td>83.6</td>\n",
       "      <td>cbse</td>\n",
       "      <td>6920</td>\n",
       "      <td>1</td>\n",
       "      <td>B.Tech/B.E.</td>\n",
       "      <td>computer engineering</td>\n",
       "      <td>74.64</td>\n",
       "      <td>6920</td>\n",
       "      <td>1</td>\n",
       "      <td>Delhi</td>\n",
       "      <td>2011</td>\n",
       "      <td>635</td>\n",
       "      <td>585</td>\n",
       "      <td>625</td>\n",
       "      <td>0.974396</td>\n",
       "      <td>615</td>\n",
       "      <td>-1</td>\n",
       "      <td>-1</td>\n",
       "      <td>-1</td>\n",
       "      <td>-1</td>\n",
       "      <td>-1</td>\n",
       "      <td>-1</td>\n",
       "      <td>0.0464</td>\n",
       "      <td>0.3448</td>\n",
       "      <td>-0.3440</td>\n",
       "      <td>-0.40780</td>\n",
       "      <td>-0.9194</td>\n",
       "    </tr>\n",
       "    <tr>\n",
       "      <th>4</th>\n",
       "      <td>343523</td>\n",
       "      <td>200000</td>\n",
       "      <td>2014-03-01</td>\n",
       "      <td>2015-03-01 00:00:00</td>\n",
       "      <td>get</td>\n",
       "      <td>Manesar</td>\n",
       "      <td>m</td>\n",
       "      <td>1991-02-27</td>\n",
       "      <td>78.0</td>\n",
       "      <td>cbse</td>\n",
       "      <td>2008</td>\n",
       "      <td>76.8</td>\n",
       "      <td>cbse</td>\n",
       "      <td>11368</td>\n",
       "      <td>2</td>\n",
       "      <td>B.Tech/B.E.</td>\n",
       "      <td>electronics and communication engineering</td>\n",
       "      <td>73.90</td>\n",
       "      <td>11368</td>\n",
       "      <td>0</td>\n",
       "      <td>Uttar Pradesh</td>\n",
       "      <td>2012</td>\n",
       "      <td>545</td>\n",
       "      <td>625</td>\n",
       "      <td>465</td>\n",
       "      <td>0.124502</td>\n",
       "      <td>-1</td>\n",
       "      <td>233</td>\n",
       "      <td>-1</td>\n",
       "      <td>-1</td>\n",
       "      <td>-1</td>\n",
       "      <td>-1</td>\n",
       "      <td>-1</td>\n",
       "      <td>-0.8810</td>\n",
       "      <td>-0.2793</td>\n",
       "      <td>-1.0697</td>\n",
       "      <td>0.09163</td>\n",
       "      <td>-0.1295</td>\n",
       "    </tr>\n",
       "  </tbody>\n",
       "</table>\n",
       "</div>"
      ],
      "text/plain": [
       "       ID   Salary        DOJ                  DOL               Designation  \\\n",
       "0  203097   420000 2012-06-01              present   senior quality engineer   \n",
       "1  579905   500000 2013-09-01              present         assistant manager   \n",
       "2  810601   325000 2014-06-01              present          systems engineer   \n",
       "3  267447  1100000 2011-07-01              present  senior software engineer   \n",
       "4  343523   200000 2014-03-01  2015-03-01 00:00:00                       get   \n",
       "\n",
       "     JobCity Gender        DOB  Grade10_marks                   Grade10_board  \\\n",
       "0  Bangalore      f 1990-02-19           84.3  board ofsecondary education,ap   \n",
       "1     Indore      m 1989-10-04           85.4                            cbse   \n",
       "2    Chennai      f 1992-08-03           85.0                            cbse   \n",
       "3    Gurgaon      m 1989-12-05           85.6                            cbse   \n",
       "4    Manesar      m 1991-02-27           78.0                            cbse   \n",
       "\n",
       "   Graduation_year  Graduation_marks                    Graduation_board  \\\n",
       "0             2007              95.8  board of intermediate education,ap   \n",
       "1             2007              85.0                                cbse   \n",
       "2             2010              68.2                                cbse   \n",
       "3             2007              83.6                                cbse   \n",
       "4             2008              76.8                                cbse   \n",
       "\n",
       "   CollegeID  CollegeTier       Degree  \\\n",
       "0       1141            2  B.Tech/B.E.   \n",
       "1       5807            2  B.Tech/B.E.   \n",
       "2         64            2  B.Tech/B.E.   \n",
       "3       6920            1  B.Tech/B.E.   \n",
       "4      11368            2  B.Tech/B.E.   \n",
       "\n",
       "                              Specialization  collegeGPA  CollegeCityID  \\\n",
       "0                       computer engineering       78.00           1141   \n",
       "1  electronics and communication engineering       70.06           5807   \n",
       "2                     information technology       70.00             64   \n",
       "3                       computer engineering       74.64           6920   \n",
       "4  electronics and communication engineering       73.90          11368   \n",
       "\n",
       "   CollegeCityTier    CollegeState  GraduationYear  English  Logical  Quant  \\\n",
       "0                0  Andhra Pradesh            2011      515      585    525   \n",
       "1                0  Madhya Pradesh            2012      695      610    780   \n",
       "2                0   Uttar Pradesh            2014      615      545    370   \n",
       "3                1           Delhi            2011      635      585    625   \n",
       "4                0   Uttar Pradesh            2012      545      625    465   \n",
       "\n",
       "     Domain  ComputerProgramming  ElectronicsAndSemicon  ComputerScience  \\\n",
       "0  0.635979                  445                     -1               -1   \n",
       "1  0.960603                   -1                    466               -1   \n",
       "2  0.450877                  395                     -1               -1   \n",
       "3  0.974396                  615                     -1               -1   \n",
       "4  0.124502                   -1                    233               -1   \n",
       "\n",
       "   MechanicalEngg  ElectricalEngg  TelecomEngg  CivilEngg  conscientiousness  \\\n",
       "0              -1              -1           -1         -1             0.9737   \n",
       "1              -1              -1           -1         -1            -0.7335   \n",
       "2              -1              -1           -1         -1             0.2718   \n",
       "3              -1              -1           -1         -1             0.0464   \n",
       "4              -1              -1           -1         -1            -0.8810   \n",
       "\n",
       "   agreeableness  extraversion  nueroticism  openess_to_experience  \n",
       "0         0.8128        0.5269      1.35490                -0.4455  \n",
       "1         0.3789        1.2396     -0.10760                 0.8637  \n",
       "2         1.7109        0.1637     -0.86820                 0.6721  \n",
       "3         0.3448       -0.3440     -0.40780                -0.9194  \n",
       "4        -0.2793       -1.0697      0.09163                -0.1295  "
      ]
     },
     "execution_count": 25,
     "metadata": {},
     "output_type": "execute_result"
    }
   ],
   "source": [
    "df.head()"
   ]
  },
  {
   "cell_type": "code",
   "execution_count": 32,
   "id": "fc1e8d25",
   "metadata": {},
   "outputs": [
    {
     "data": {
      "text/plain": [
       "False"
      ]
     },
     "execution_count": 32,
     "metadata": {},
     "output_type": "execute_result"
    }
   ],
   "source": [
    "#check for duplicates\n",
    "df.duplicated().any()"
   ]
  },
  {
   "cell_type": "code",
   "execution_count": 44,
   "id": "02db58a7",
   "metadata": {},
   "outputs": [],
   "source": [
    "#handling inconsistencies in Designation Column \n",
    "df['Designation'].replace(['software engineer','software developer','java software engineer','senior software engineer','java developer','web developer', 'application developer','associate software engineer','programmer','.net developer','asp.net developer','senior software developer','ios developer','junior software engineer','web application developer','junior software developer','senior .net developer','front end web developer','senior java developer', 'sql developer', 'senior php developer','.net web developer','game developer','front end developer','html developer','software engineer associate','c# developer','associate developer','it developer','software engg','dotnet developer','software eng','junior .net developer','software devloper','trainee software developer','senior developer','python developer','full stack developer','software engineere'],'software developer',inplace=True)"
   ]
  },
  {
   "cell_type": "code",
   "execution_count": 57,
   "id": "7a4de6f6",
   "metadata": {},
   "outputs": [],
   "source": [
    "mask= df['Designation'].str.contains('analyst')\n",
    "df.loc[mask, 'Designation']='analyst'"
   ]
  },
  {
   "cell_type": "code",
   "execution_count": 59,
   "id": "79d6ff4d",
   "metadata": {},
   "outputs": [],
   "source": [
    "df['Designation'].replace(['software enginner','software programmer','senior web developer','developer','senior programmer','software trainee engineer','jr.software developer', 'embedded software engineer', 'trainee software engineer','assistant software engineer','jr software engineer','software programmer','software engineering associate','associate software engg','senior programmer'],'software developer', inplace=True)"
   ]
  },
  {
   "cell_type": "code",
   "execution_count": 61,
   "id": "22deab32",
   "metadata": {},
   "outputs": [],
   "source": [
    "df['Designation'].replace(['system engineer', 'systems engineer', 'senior systems engineer','assistant system engineer'],'system engineer', inplace=True)"
   ]
  },
  {
   "cell_type": "code",
   "execution_count": 62,
   "id": "7303daac",
   "metadata": {},
   "outputs": [],
   "source": [
    "df['Designation'].replace(['software test engineer','test engineer', 'software test engineerte','software test engineer (etl)', 'associate test engineer'],'software test engineer', inplace= True)"
   ]
  },
  {
   "cell_type": "code",
   "execution_count": 70,
   "id": "72b82d51",
   "metadata": {},
   "outputs": [
    {
     "data": {
      "text/plain": [
       "software developer                   1440\n",
       "analyst                               412\n",
       "system engineer                       381\n",
       "software test engineer                160\n",
       "project engineer                       77\n",
       "technical support engineer             76\n",
       "assistant manager                      52\n",
       "network engineer                       51\n",
       "engineer                               47\n",
       "android developer                      46\n",
       "php developer                          33\n",
       "production engineer                    29\n",
       "design engineer                        28\n",
       "electrical engineer                    23\n",
       "application engineer                   22\n",
       "system administrator                   20\n",
       "lecturer                               20\n",
       "management trainee                     19\n",
       "senior engineer                        18\n",
       "software quality assurance tester      17\n",
       "Name: Designation, dtype: int64"
      ]
     },
     "execution_count": 70,
     "metadata": {},
     "output_type": "execute_result"
    }
   ],
   "source": [
    "designation_count=df['Designation'].value_counts()\n",
    "designation_count[:20]"
   ]
  },
  {
   "cell_type": "code",
   "execution_count": 71,
   "id": "240e65cd",
   "metadata": {},
   "outputs": [],
   "source": [
    "#drop columns with a -1\n",
    "df['JobCity'].replace(-1,np.nan,inplace=True)\n",
    "df['JobCity'].dropna(inplace=True)"
   ]
  },
  {
   "cell_type": "code",
   "execution_count": 73,
   "id": "2e8f9606",
   "metadata": {},
   "outputs": [
    {
     "data": {
      "text/plain": [
       "Bangalore        627\n",
       "Noida            368\n",
       "Hyderabad        335\n",
       "Pune             290\n",
       "Chennai          272\n",
       "Gurgaon          198\n",
       "New Delhi        196\n",
       "Mumbai           108\n",
       "Kolkata           98\n",
       "Jaipur            46\n",
       "Lucknow           36\n",
       "Mysore            36\n",
       "Navi Mumbai       32\n",
       "chennai           27\n",
       "pune              26\n",
       "Greater Noida     26\n",
       "Chandigarh        26\n",
       "Indore            24\n",
       "Bhubaneswar       22\n",
       "Coimbatore        20\n",
       "Name: JobCity, dtype: int64"
      ]
     },
     "execution_count": 73,
     "metadata": {},
     "output_type": "execute_result"
    }
   ],
   "source": [
    "jobcity_count=df['JobCity'].value_counts()\n",
    "jobcity_count[:20]"
   ]
  },
  {
   "cell_type": "code",
   "execution_count": 75,
   "id": "670b06e9",
   "metadata": {},
   "outputs": [
    {
     "data": {
      "text/plain": [
       "count    3998.000000\n",
       "mean       77.925443\n",
       "std         9.850162\n",
       "min        43.000000\n",
       "25%        71.680000\n",
       "50%        79.150000\n",
       "75%        85.670000\n",
       "max        97.760000\n",
       "Name: Grade10_marks, dtype: float64"
      ]
     },
     "execution_count": 75,
     "metadata": {},
     "output_type": "execute_result"
    }
   ],
   "source": [
    "df['Grade10_marks'].describe()"
   ]
  },
  {
   "cell_type": "code",
   "execution_count": 82,
   "id": "08ba1f55",
   "metadata": {},
   "outputs": [],
   "source": [
    "#handling inconsistencies in the Grade10 board\n",
    "df['Grade10_board'].replace(['board ofsecondary education,ap', 'andhra pradesh','board of secondary education,andhara pradesh','andhra pradesh board ssc','board of secondary education, andhra pradesh','board of secondary education,andhra pradesh','school secondary education, andhra pradesh','andhra pradesh state board','ap state board','school secondary education, andhra pradesh','andhra pradesh state board','ap state board','board of secondary education - andhra pradesh','ap state board for secondary education','board of ssc education andhra pradesh'],'board of secondary education, andhra pradesh',inplace=True)"
   ]
  },
  {
   "cell_type": "code",
   "execution_count": 83,
   "id": "243168d4",
   "metadata": {},
   "outputs": [],
   "source": [
    "df['Grade10_board'].replace(['board secondary  education','board secondary  education','board of secondary education','state board of secondary education( ssc)','state','board of ssc','ssc','bse(board of secondary education)','state board ','state bord','board of  secondary education'],'board of secondary education', inplace=True)"
   ]
  },
  {
   "cell_type": "code",
   "execution_count": 86,
   "id": "f79f3d78",
   "metadata": {},
   "outputs": [],
   "source": [
    "df['Grade10_board'].replace(['uttar pradesh board','up board','upboard','up','up baord','up borad','u p','up bourd','up-board','u p board'], 'uttar pradesh board',inplace= True)"
   ]
  },
  {
   "cell_type": "code",
   "execution_count": 84,
   "id": "59765bea",
   "metadata": {},
   "outputs": [],
   "source": [
    "df['Grade10_board'].replace(['karnataka state secondary education board','karnataka secondary education board','karnataka board of secondary education','karantaka secondary education and examination borad','kseeb(karnataka secondary education examination board)','state(karnataka board)','karnataka secondary education examination board','karnataka education board','karnataka sslc board bangalore','karnataka','karnataka secondary board','karnataka board of higher education','karnataka secondary eduction','karnataka education board (keeb)'],'karnataka secondary education board', inplace= True)"
   ]
  },
  {
   "cell_type": "code",
   "execution_count": 91,
   "id": "c9f6e708",
   "metadata": {},
   "outputs": [],
   "source": [
    "df['Grade10_board'].replace(0,np.nan,inplace=True)\n",
    "df['Grade10_board'].dropna(inplace=True)"
   ]
  },
  {
   "cell_type": "code",
   "execution_count": 92,
   "id": "490d94df",
   "metadata": {},
   "outputs": [],
   "source": [
    "df['Grade10_board'].replace('cbse','central board of secondary education', inplace=True)"
   ]
  },
  {
   "cell_type": "code",
   "execution_count": 97,
   "id": "04dce7aa",
   "metadata": {},
   "outputs": [],
   "source": [
    "df['Grade10_board'].replace('icse','indian certificate of secondary education', inplace=True)"
   ]
  },
  {
   "cell_type": "code",
   "execution_count": 99,
   "id": "10b82aaf",
   "metadata": {},
   "outputs": [
    {
     "data": {
      "text/html": [
       "<div>\n",
       "<style scoped>\n",
       "    .dataframe tbody tr th:only-of-type {\n",
       "        vertical-align: middle;\n",
       "    }\n",
       "\n",
       "    .dataframe tbody tr th {\n",
       "        vertical-align: top;\n",
       "    }\n",
       "\n",
       "    .dataframe thead th {\n",
       "        text-align: right;\n",
       "    }\n",
       "</style>\n",
       "<table border=\"1\" class=\"dataframe\">\n",
       "  <thead>\n",
       "    <tr style=\"text-align: right;\">\n",
       "      <th></th>\n",
       "      <th>ID</th>\n",
       "      <th>Salary</th>\n",
       "      <th>DOJ</th>\n",
       "      <th>DOL</th>\n",
       "      <th>Designation</th>\n",
       "      <th>JobCity</th>\n",
       "      <th>Gender</th>\n",
       "      <th>DOB</th>\n",
       "      <th>Grade10_marks</th>\n",
       "      <th>Grade10_board</th>\n",
       "      <th>Graduation_year</th>\n",
       "      <th>Graduation_marks</th>\n",
       "      <th>Graduation_board</th>\n",
       "      <th>CollegeID</th>\n",
       "      <th>CollegeTier</th>\n",
       "      <th>Degree</th>\n",
       "      <th>Specialization</th>\n",
       "      <th>collegeGPA</th>\n",
       "      <th>CollegeCityID</th>\n",
       "      <th>CollegeCityTier</th>\n",
       "      <th>CollegeState</th>\n",
       "      <th>GraduationYear</th>\n",
       "      <th>English</th>\n",
       "      <th>Logical</th>\n",
       "      <th>Quant</th>\n",
       "      <th>Domain</th>\n",
       "      <th>ComputerProgramming</th>\n",
       "      <th>ElectronicsAndSemicon</th>\n",
       "      <th>ComputerScience</th>\n",
       "      <th>MechanicalEngg</th>\n",
       "      <th>ElectricalEngg</th>\n",
       "      <th>TelecomEngg</th>\n",
       "      <th>CivilEngg</th>\n",
       "      <th>conscientiousness</th>\n",
       "      <th>agreeableness</th>\n",
       "      <th>extraversion</th>\n",
       "      <th>nueroticism</th>\n",
       "      <th>openess_to_experience</th>\n",
       "      <th>Designstion</th>\n",
       "    </tr>\n",
       "  </thead>\n",
       "  <tbody>\n",
       "    <tr>\n",
       "      <th>0</th>\n",
       "      <td>203097</td>\n",
       "      <td>420000</td>\n",
       "      <td>2012-06-01</td>\n",
       "      <td>present</td>\n",
       "      <td>senior quality engineer</td>\n",
       "      <td>Bangalore</td>\n",
       "      <td>f</td>\n",
       "      <td>1990-02-19</td>\n",
       "      <td>84.3</td>\n",
       "      <td>board of secondary education, andhra pradesh</td>\n",
       "      <td>2007</td>\n",
       "      <td>95.8</td>\n",
       "      <td>board of intermediate education,ap</td>\n",
       "      <td>1141</td>\n",
       "      <td>2</td>\n",
       "      <td>B.Tech/B.E.</td>\n",
       "      <td>computer engineering</td>\n",
       "      <td>78.00</td>\n",
       "      <td>1141</td>\n",
       "      <td>0</td>\n",
       "      <td>Andhra Pradesh</td>\n",
       "      <td>2011</td>\n",
       "      <td>515</td>\n",
       "      <td>585</td>\n",
       "      <td>525</td>\n",
       "      <td>0.635979</td>\n",
       "      <td>445</td>\n",
       "      <td>-1</td>\n",
       "      <td>-1</td>\n",
       "      <td>-1</td>\n",
       "      <td>-1</td>\n",
       "      <td>-1</td>\n",
       "      <td>-1</td>\n",
       "      <td>0.9737</td>\n",
       "      <td>0.8128</td>\n",
       "      <td>0.5269</td>\n",
       "      <td>1.35490</td>\n",
       "      <td>-0.4455</td>\n",
       "      <td>NaN</td>\n",
       "    </tr>\n",
       "    <tr>\n",
       "      <th>1</th>\n",
       "      <td>579905</td>\n",
       "      <td>500000</td>\n",
       "      <td>2013-09-01</td>\n",
       "      <td>present</td>\n",
       "      <td>assistant manager</td>\n",
       "      <td>Indore</td>\n",
       "      <td>m</td>\n",
       "      <td>1989-10-04</td>\n",
       "      <td>85.4</td>\n",
       "      <td>central board of secondary education</td>\n",
       "      <td>2007</td>\n",
       "      <td>85.0</td>\n",
       "      <td>cbse</td>\n",
       "      <td>5807</td>\n",
       "      <td>2</td>\n",
       "      <td>B.Tech/B.E.</td>\n",
       "      <td>electronics and communication engineering</td>\n",
       "      <td>70.06</td>\n",
       "      <td>5807</td>\n",
       "      <td>0</td>\n",
       "      <td>Madhya Pradesh</td>\n",
       "      <td>2012</td>\n",
       "      <td>695</td>\n",
       "      <td>610</td>\n",
       "      <td>780</td>\n",
       "      <td>0.960603</td>\n",
       "      <td>-1</td>\n",
       "      <td>466</td>\n",
       "      <td>-1</td>\n",
       "      <td>-1</td>\n",
       "      <td>-1</td>\n",
       "      <td>-1</td>\n",
       "      <td>-1</td>\n",
       "      <td>-0.7335</td>\n",
       "      <td>0.3789</td>\n",
       "      <td>1.2396</td>\n",
       "      <td>-0.10760</td>\n",
       "      <td>0.8637</td>\n",
       "      <td>NaN</td>\n",
       "    </tr>\n",
       "    <tr>\n",
       "      <th>2</th>\n",
       "      <td>810601</td>\n",
       "      <td>325000</td>\n",
       "      <td>2014-06-01</td>\n",
       "      <td>present</td>\n",
       "      <td>system engineer</td>\n",
       "      <td>Chennai</td>\n",
       "      <td>f</td>\n",
       "      <td>1992-08-03</td>\n",
       "      <td>85.0</td>\n",
       "      <td>central board of secondary education</td>\n",
       "      <td>2010</td>\n",
       "      <td>68.2</td>\n",
       "      <td>cbse</td>\n",
       "      <td>64</td>\n",
       "      <td>2</td>\n",
       "      <td>B.Tech/B.E.</td>\n",
       "      <td>information technology</td>\n",
       "      <td>70.00</td>\n",
       "      <td>64</td>\n",
       "      <td>0</td>\n",
       "      <td>Uttar Pradesh</td>\n",
       "      <td>2014</td>\n",
       "      <td>615</td>\n",
       "      <td>545</td>\n",
       "      <td>370</td>\n",
       "      <td>0.450877</td>\n",
       "      <td>395</td>\n",
       "      <td>-1</td>\n",
       "      <td>-1</td>\n",
       "      <td>-1</td>\n",
       "      <td>-1</td>\n",
       "      <td>-1</td>\n",
       "      <td>-1</td>\n",
       "      <td>0.2718</td>\n",
       "      <td>1.7109</td>\n",
       "      <td>0.1637</td>\n",
       "      <td>-0.86820</td>\n",
       "      <td>0.6721</td>\n",
       "      <td>NaN</td>\n",
       "    </tr>\n",
       "    <tr>\n",
       "      <th>3</th>\n",
       "      <td>267447</td>\n",
       "      <td>1100000</td>\n",
       "      <td>2011-07-01</td>\n",
       "      <td>present</td>\n",
       "      <td>software developer</td>\n",
       "      <td>Gurgaon</td>\n",
       "      <td>m</td>\n",
       "      <td>1989-12-05</td>\n",
       "      <td>85.6</td>\n",
       "      <td>central board of secondary education</td>\n",
       "      <td>2007</td>\n",
       "      <td>83.6</td>\n",
       "      <td>cbse</td>\n",
       "      <td>6920</td>\n",
       "      <td>1</td>\n",
       "      <td>B.Tech/B.E.</td>\n",
       "      <td>computer engineering</td>\n",
       "      <td>74.64</td>\n",
       "      <td>6920</td>\n",
       "      <td>1</td>\n",
       "      <td>Delhi</td>\n",
       "      <td>2011</td>\n",
       "      <td>635</td>\n",
       "      <td>585</td>\n",
       "      <td>625</td>\n",
       "      <td>0.974396</td>\n",
       "      <td>615</td>\n",
       "      <td>-1</td>\n",
       "      <td>-1</td>\n",
       "      <td>-1</td>\n",
       "      <td>-1</td>\n",
       "      <td>-1</td>\n",
       "      <td>-1</td>\n",
       "      <td>0.0464</td>\n",
       "      <td>0.3448</td>\n",
       "      <td>-0.3440</td>\n",
       "      <td>-0.40780</td>\n",
       "      <td>-0.9194</td>\n",
       "      <td>NaN</td>\n",
       "    </tr>\n",
       "    <tr>\n",
       "      <th>4</th>\n",
       "      <td>343523</td>\n",
       "      <td>200000</td>\n",
       "      <td>2014-03-01</td>\n",
       "      <td>2015-03-01 00:00:00</td>\n",
       "      <td>get</td>\n",
       "      <td>Manesar</td>\n",
       "      <td>m</td>\n",
       "      <td>1991-02-27</td>\n",
       "      <td>78.0</td>\n",
       "      <td>central board of secondary education</td>\n",
       "      <td>2008</td>\n",
       "      <td>76.8</td>\n",
       "      <td>cbse</td>\n",
       "      <td>11368</td>\n",
       "      <td>2</td>\n",
       "      <td>B.Tech/B.E.</td>\n",
       "      <td>electronics and communication engineering</td>\n",
       "      <td>73.90</td>\n",
       "      <td>11368</td>\n",
       "      <td>0</td>\n",
       "      <td>Uttar Pradesh</td>\n",
       "      <td>2012</td>\n",
       "      <td>545</td>\n",
       "      <td>625</td>\n",
       "      <td>465</td>\n",
       "      <td>0.124502</td>\n",
       "      <td>-1</td>\n",
       "      <td>233</td>\n",
       "      <td>-1</td>\n",
       "      <td>-1</td>\n",
       "      <td>-1</td>\n",
       "      <td>-1</td>\n",
       "      <td>-1</td>\n",
       "      <td>-0.8810</td>\n",
       "      <td>-0.2793</td>\n",
       "      <td>-1.0697</td>\n",
       "      <td>0.09163</td>\n",
       "      <td>-0.1295</td>\n",
       "      <td>NaN</td>\n",
       "    </tr>\n",
       "  </tbody>\n",
       "</table>\n",
       "</div>"
      ],
      "text/plain": [
       "       ID   Salary        DOJ                  DOL              Designation  \\\n",
       "0  203097   420000 2012-06-01              present  senior quality engineer   \n",
       "1  579905   500000 2013-09-01              present        assistant manager   \n",
       "2  810601   325000 2014-06-01              present          system engineer   \n",
       "3  267447  1100000 2011-07-01              present       software developer   \n",
       "4  343523   200000 2014-03-01  2015-03-01 00:00:00                      get   \n",
       "\n",
       "     JobCity Gender        DOB  Grade10_marks  \\\n",
       "0  Bangalore      f 1990-02-19           84.3   \n",
       "1     Indore      m 1989-10-04           85.4   \n",
       "2    Chennai      f 1992-08-03           85.0   \n",
       "3    Gurgaon      m 1989-12-05           85.6   \n",
       "4    Manesar      m 1991-02-27           78.0   \n",
       "\n",
       "                                  Grade10_board  Graduation_year  \\\n",
       "0  board of secondary education, andhra pradesh             2007   \n",
       "1          central board of secondary education             2007   \n",
       "2          central board of secondary education             2010   \n",
       "3          central board of secondary education             2007   \n",
       "4          central board of secondary education             2008   \n",
       "\n",
       "   Graduation_marks                    Graduation_board  CollegeID  \\\n",
       "0              95.8  board of intermediate education,ap       1141   \n",
       "1              85.0                                cbse       5807   \n",
       "2              68.2                                cbse         64   \n",
       "3              83.6                                cbse       6920   \n",
       "4              76.8                                cbse      11368   \n",
       "\n",
       "   CollegeTier       Degree                             Specialization  \\\n",
       "0            2  B.Tech/B.E.                       computer engineering   \n",
       "1            2  B.Tech/B.E.  electronics and communication engineering   \n",
       "2            2  B.Tech/B.E.                     information technology   \n",
       "3            1  B.Tech/B.E.                       computer engineering   \n",
       "4            2  B.Tech/B.E.  electronics and communication engineering   \n",
       "\n",
       "   collegeGPA  CollegeCityID  CollegeCityTier    CollegeState  GraduationYear  \\\n",
       "0       78.00           1141                0  Andhra Pradesh            2011   \n",
       "1       70.06           5807                0  Madhya Pradesh            2012   \n",
       "2       70.00             64                0   Uttar Pradesh            2014   \n",
       "3       74.64           6920                1           Delhi            2011   \n",
       "4       73.90          11368                0   Uttar Pradesh            2012   \n",
       "\n",
       "   English  Logical  Quant    Domain  ComputerProgramming  \\\n",
       "0      515      585    525  0.635979                  445   \n",
       "1      695      610    780  0.960603                   -1   \n",
       "2      615      545    370  0.450877                  395   \n",
       "3      635      585    625  0.974396                  615   \n",
       "4      545      625    465  0.124502                   -1   \n",
       "\n",
       "   ElectronicsAndSemicon  ComputerScience  MechanicalEngg  ElectricalEngg  \\\n",
       "0                     -1               -1              -1              -1   \n",
       "1                    466               -1              -1              -1   \n",
       "2                     -1               -1              -1              -1   \n",
       "3                     -1               -1              -1              -1   \n",
       "4                    233               -1              -1              -1   \n",
       "\n",
       "   TelecomEngg  CivilEngg  conscientiousness  agreeableness  extraversion  \\\n",
       "0           -1         -1             0.9737         0.8128        0.5269   \n",
       "1           -1         -1            -0.7335         0.3789        1.2396   \n",
       "2           -1         -1             0.2718         1.7109        0.1637   \n",
       "3           -1         -1             0.0464         0.3448       -0.3440   \n",
       "4           -1         -1            -0.8810        -0.2793       -1.0697   \n",
       "\n",
       "   nueroticism  openess_to_experience Designstion  \n",
       "0      1.35490                -0.4455         NaN  \n",
       "1     -0.10760                 0.8637         NaN  \n",
       "2     -0.86820                 0.6721         NaN  \n",
       "3     -0.40780                -0.9194         NaN  \n",
       "4      0.09163                -0.1295         NaN  "
      ]
     },
     "execution_count": 99,
     "metadata": {},
     "output_type": "execute_result"
    }
   ],
   "source": [
    "df.head()"
   ]
  },
  {
   "cell_type": "code",
   "execution_count": 101,
   "id": "c839a845",
   "metadata": {},
   "outputs": [
    {
     "data": {
      "text/plain": [
       "cbse                               1400\n",
       "state board                        1254\n",
       "0                                   359\n",
       "icse                                129\n",
       "up board                             87\n",
       "isc                                  45\n",
       "board of intermediate                36\n",
       "board of intermediate education      31\n",
       "up                                   20\n",
       "rbse                                 19\n",
       "Name: Graduation_board, dtype: int64"
      ]
     },
     "execution_count": 101,
     "metadata": {},
     "output_type": "execute_result"
    }
   ],
   "source": [
    "graduation_board=df['Graduation_board'].value_counts()\n",
    "graduation_board[:10]"
   ]
  },
  {
   "cell_type": "code",
   "execution_count": 102,
   "id": "3698919f",
   "metadata": {},
   "outputs": [],
   "source": [
    "df['Graduation_board'].replace(0,np.nan,inplace=True)\n",
    "df['Graduation_board'].dropna(inplace=True)"
   ]
  },
  {
   "cell_type": "code",
   "execution_count": 103,
   "id": "ea70f411",
   "metadata": {},
   "outputs": [
    {
     "data": {
      "text/plain": [
       "cbse                               1400\n",
       "state board                        1254\n",
       "icse                                129\n",
       "up board                             87\n",
       "isc                                  45\n",
       "board of intermediate                36\n",
       "board of intermediate education      31\n",
       "up                                   20\n",
       "rbse                                 19\n",
       "mp board                             17\n",
       "Name: Graduation_board, dtype: int64"
      ]
     },
     "execution_count": 103,
     "metadata": {},
     "output_type": "execute_result"
    }
   ],
   "source": [
    "graduation_board=df['Graduation_board'].value_counts()\n",
    "graduation_board[:10]"
   ]
  },
  {
   "cell_type": "code",
   "execution_count": 104,
   "id": "c7e696e4",
   "metadata": {},
   "outputs": [],
   "source": [
    "df['Graduation_board'].replace('cbse','central board of secondary education', inplace= True)"
   ]
  },
  {
   "cell_type": "code",
   "execution_count": 105,
   "id": "129470bc",
   "metadata": {},
   "outputs": [],
   "source": [
    "df['Graduation_board'].replace('icse','indian certificate of secondary education', inplace= True)"
   ]
  },
  {
   "cell_type": "code",
   "execution_count": 106,
   "id": "e9d5596b",
   "metadata": {},
   "outputs": [],
   "source": [
    "df['Graduation_board'].replace('isc','indian school certificate', inplace= True)"
   ]
  },
  {
   "cell_type": "code",
   "execution_count": 108,
   "id": "f860bd41",
   "metadata": {},
   "outputs": [
    {
     "data": {
      "text/plain": [
       "central board of secondary education         1412\n",
       "state board                                  1254\n",
       "indian certificate of secondary education     129\n",
       "up board                                       87\n",
       "indian school certificate                      45\n",
       "Name: Graduation_board, dtype: int64"
      ]
     },
     "execution_count": 108,
     "metadata": {},
     "output_type": "execute_result"
    }
   ],
   "source": [
    "graduation_board=df['Graduation_board'].value_counts()\n",
    "graduation_board[:5]"
   ]
  },
  {
   "cell_type": "markdown",
   "id": "5d6f232c",
   "metadata": {},
   "source": [
    "Columns to be analyzed\n",
    "\n",
    "ID,Salary,DOJ,DOL,Designation,JobCity,Gender,DOB,Grade10_marks,Grade10_board,Graduation_year,Graduation_marks,Graduation_board,CollegeID,CollegeTier,Degree,Specialization,collegeGPA,CollegeCityID,CollegeCityTier,CollegeState,GraduationYear,English,Logical,Quant,Domain"
   ]
  },
  {
   "cell_type": "code",
   "execution_count": 111,
   "id": "d9a839e2",
   "metadata": {},
   "outputs": [],
   "source": [
    "df1=df[['ID','Salary','DOJ','DOL','Designation','JobCity','Gender','DOB','Grade10_marks','Grade10_board','Graduation_year','Graduation_marks','Graduation_board','CollegeID','CollegeTier','Degree','Specialization','collegeGPA','CollegeCityID','CollegeCityTier','CollegeState','GraduationYear','English','Logical','Quant','Domain']]"
   ]
  },
  {
   "cell_type": "markdown",
   "id": "8882d15b",
   "metadata": {},
   "source": [
    "## Exploratory Analysis"
   ]
  },
  {
   "cell_type": "markdown",
   "id": "d4d15dba",
   "metadata": {},
   "source": [
    "### Univariate Analysis"
   ]
  },
  {
   "cell_type": "code",
   "execution_count": 112,
   "id": "acc347ad",
   "metadata": {},
   "outputs": [
    {
     "data": {
      "text/html": [
       "<div>\n",
       "<style scoped>\n",
       "    .dataframe tbody tr th:only-of-type {\n",
       "        vertical-align: middle;\n",
       "    }\n",
       "\n",
       "    .dataframe tbody tr th {\n",
       "        vertical-align: top;\n",
       "    }\n",
       "\n",
       "    .dataframe thead th {\n",
       "        text-align: right;\n",
       "    }\n",
       "</style>\n",
       "<table border=\"1\" class=\"dataframe\">\n",
       "  <thead>\n",
       "    <tr style=\"text-align: right;\">\n",
       "      <th></th>\n",
       "      <th>ID</th>\n",
       "      <th>Salary</th>\n",
       "      <th>DOJ</th>\n",
       "      <th>DOL</th>\n",
       "      <th>Designation</th>\n",
       "      <th>JobCity</th>\n",
       "      <th>Gender</th>\n",
       "      <th>DOB</th>\n",
       "      <th>Grade10_marks</th>\n",
       "      <th>Grade10_board</th>\n",
       "      <th>Graduation_year</th>\n",
       "      <th>Graduation_marks</th>\n",
       "      <th>Graduation_board</th>\n",
       "      <th>CollegeID</th>\n",
       "      <th>CollegeTier</th>\n",
       "      <th>Degree</th>\n",
       "      <th>Specialization</th>\n",
       "      <th>collegeGPA</th>\n",
       "      <th>CollegeCityID</th>\n",
       "      <th>CollegeCityTier</th>\n",
       "      <th>CollegeState</th>\n",
       "      <th>GraduationYear</th>\n",
       "      <th>English</th>\n",
       "      <th>Logical</th>\n",
       "      <th>Quant</th>\n",
       "      <th>Domain</th>\n",
       "    </tr>\n",
       "  </thead>\n",
       "  <tbody>\n",
       "    <tr>\n",
       "      <th>0</th>\n",
       "      <td>203097</td>\n",
       "      <td>420000</td>\n",
       "      <td>2012-06-01</td>\n",
       "      <td>present</td>\n",
       "      <td>senior quality engineer</td>\n",
       "      <td>Bangalore</td>\n",
       "      <td>f</td>\n",
       "      <td>1990-02-19</td>\n",
       "      <td>84.3</td>\n",
       "      <td>board of secondary education, andhra pradesh</td>\n",
       "      <td>2007</td>\n",
       "      <td>95.8</td>\n",
       "      <td>board of intermediate education,ap</td>\n",
       "      <td>1141</td>\n",
       "      <td>2</td>\n",
       "      <td>B.Tech/B.E.</td>\n",
       "      <td>computer engineering</td>\n",
       "      <td>78.00</td>\n",
       "      <td>1141</td>\n",
       "      <td>0</td>\n",
       "      <td>Andhra Pradesh</td>\n",
       "      <td>2011</td>\n",
       "      <td>515</td>\n",
       "      <td>585</td>\n",
       "      <td>525</td>\n",
       "      <td>0.635979</td>\n",
       "    </tr>\n",
       "    <tr>\n",
       "      <th>1</th>\n",
       "      <td>579905</td>\n",
       "      <td>500000</td>\n",
       "      <td>2013-09-01</td>\n",
       "      <td>present</td>\n",
       "      <td>assistant manager</td>\n",
       "      <td>Indore</td>\n",
       "      <td>m</td>\n",
       "      <td>1989-10-04</td>\n",
       "      <td>85.4</td>\n",
       "      <td>central board of secondary education</td>\n",
       "      <td>2007</td>\n",
       "      <td>85.0</td>\n",
       "      <td>central board of secondary education</td>\n",
       "      <td>5807</td>\n",
       "      <td>2</td>\n",
       "      <td>B.Tech/B.E.</td>\n",
       "      <td>electronics and communication engineering</td>\n",
       "      <td>70.06</td>\n",
       "      <td>5807</td>\n",
       "      <td>0</td>\n",
       "      <td>Madhya Pradesh</td>\n",
       "      <td>2012</td>\n",
       "      <td>695</td>\n",
       "      <td>610</td>\n",
       "      <td>780</td>\n",
       "      <td>0.960603</td>\n",
       "    </tr>\n",
       "    <tr>\n",
       "      <th>2</th>\n",
       "      <td>810601</td>\n",
       "      <td>325000</td>\n",
       "      <td>2014-06-01</td>\n",
       "      <td>present</td>\n",
       "      <td>system engineer</td>\n",
       "      <td>Chennai</td>\n",
       "      <td>f</td>\n",
       "      <td>1992-08-03</td>\n",
       "      <td>85.0</td>\n",
       "      <td>central board of secondary education</td>\n",
       "      <td>2010</td>\n",
       "      <td>68.2</td>\n",
       "      <td>central board of secondary education</td>\n",
       "      <td>64</td>\n",
       "      <td>2</td>\n",
       "      <td>B.Tech/B.E.</td>\n",
       "      <td>information technology</td>\n",
       "      <td>70.00</td>\n",
       "      <td>64</td>\n",
       "      <td>0</td>\n",
       "      <td>Uttar Pradesh</td>\n",
       "      <td>2014</td>\n",
       "      <td>615</td>\n",
       "      <td>545</td>\n",
       "      <td>370</td>\n",
       "      <td>0.450877</td>\n",
       "    </tr>\n",
       "    <tr>\n",
       "      <th>3</th>\n",
       "      <td>267447</td>\n",
       "      <td>1100000</td>\n",
       "      <td>2011-07-01</td>\n",
       "      <td>present</td>\n",
       "      <td>software developer</td>\n",
       "      <td>Gurgaon</td>\n",
       "      <td>m</td>\n",
       "      <td>1989-12-05</td>\n",
       "      <td>85.6</td>\n",
       "      <td>central board of secondary education</td>\n",
       "      <td>2007</td>\n",
       "      <td>83.6</td>\n",
       "      <td>central board of secondary education</td>\n",
       "      <td>6920</td>\n",
       "      <td>1</td>\n",
       "      <td>B.Tech/B.E.</td>\n",
       "      <td>computer engineering</td>\n",
       "      <td>74.64</td>\n",
       "      <td>6920</td>\n",
       "      <td>1</td>\n",
       "      <td>Delhi</td>\n",
       "      <td>2011</td>\n",
       "      <td>635</td>\n",
       "      <td>585</td>\n",
       "      <td>625</td>\n",
       "      <td>0.974396</td>\n",
       "    </tr>\n",
       "    <tr>\n",
       "      <th>4</th>\n",
       "      <td>343523</td>\n",
       "      <td>200000</td>\n",
       "      <td>2014-03-01</td>\n",
       "      <td>2015-03-01 00:00:00</td>\n",
       "      <td>get</td>\n",
       "      <td>Manesar</td>\n",
       "      <td>m</td>\n",
       "      <td>1991-02-27</td>\n",
       "      <td>78.0</td>\n",
       "      <td>central board of secondary education</td>\n",
       "      <td>2008</td>\n",
       "      <td>76.8</td>\n",
       "      <td>central board of secondary education</td>\n",
       "      <td>11368</td>\n",
       "      <td>2</td>\n",
       "      <td>B.Tech/B.E.</td>\n",
       "      <td>electronics and communication engineering</td>\n",
       "      <td>73.90</td>\n",
       "      <td>11368</td>\n",
       "      <td>0</td>\n",
       "      <td>Uttar Pradesh</td>\n",
       "      <td>2012</td>\n",
       "      <td>545</td>\n",
       "      <td>625</td>\n",
       "      <td>465</td>\n",
       "      <td>0.124502</td>\n",
       "    </tr>\n",
       "  </tbody>\n",
       "</table>\n",
       "</div>"
      ],
      "text/plain": [
       "       ID   Salary        DOJ                  DOL              Designation  \\\n",
       "0  203097   420000 2012-06-01              present  senior quality engineer   \n",
       "1  579905   500000 2013-09-01              present        assistant manager   \n",
       "2  810601   325000 2014-06-01              present          system engineer   \n",
       "3  267447  1100000 2011-07-01              present       software developer   \n",
       "4  343523   200000 2014-03-01  2015-03-01 00:00:00                      get   \n",
       "\n",
       "     JobCity Gender        DOB  Grade10_marks  \\\n",
       "0  Bangalore      f 1990-02-19           84.3   \n",
       "1     Indore      m 1989-10-04           85.4   \n",
       "2    Chennai      f 1992-08-03           85.0   \n",
       "3    Gurgaon      m 1989-12-05           85.6   \n",
       "4    Manesar      m 1991-02-27           78.0   \n",
       "\n",
       "                                  Grade10_board  Graduation_year  \\\n",
       "0  board of secondary education, andhra pradesh             2007   \n",
       "1          central board of secondary education             2007   \n",
       "2          central board of secondary education             2010   \n",
       "3          central board of secondary education             2007   \n",
       "4          central board of secondary education             2008   \n",
       "\n",
       "   Graduation_marks                      Graduation_board  CollegeID  \\\n",
       "0              95.8    board of intermediate education,ap       1141   \n",
       "1              85.0  central board of secondary education       5807   \n",
       "2              68.2  central board of secondary education         64   \n",
       "3              83.6  central board of secondary education       6920   \n",
       "4              76.8  central board of secondary education      11368   \n",
       "\n",
       "   CollegeTier       Degree                             Specialization  \\\n",
       "0            2  B.Tech/B.E.                       computer engineering   \n",
       "1            2  B.Tech/B.E.  electronics and communication engineering   \n",
       "2            2  B.Tech/B.E.                     information technology   \n",
       "3            1  B.Tech/B.E.                       computer engineering   \n",
       "4            2  B.Tech/B.E.  electronics and communication engineering   \n",
       "\n",
       "   collegeGPA  CollegeCityID  CollegeCityTier    CollegeState  GraduationYear  \\\n",
       "0       78.00           1141                0  Andhra Pradesh            2011   \n",
       "1       70.06           5807                0  Madhya Pradesh            2012   \n",
       "2       70.00             64                0   Uttar Pradesh            2014   \n",
       "3       74.64           6920                1           Delhi            2011   \n",
       "4       73.90          11368                0   Uttar Pradesh            2012   \n",
       "\n",
       "   English  Logical  Quant    Domain  \n",
       "0      515      585    525  0.635979  \n",
       "1      695      610    780  0.960603  \n",
       "2      615      545    370  0.450877  \n",
       "3      635      585    625  0.974396  \n",
       "4      545      625    465  0.124502  "
      ]
     },
     "execution_count": 112,
     "metadata": {},
     "output_type": "execute_result"
    }
   ],
   "source": [
    "df1.head()"
   ]
  },
  {
   "cell_type": "markdown",
   "id": "69cba478",
   "metadata": {},
   "source": [
    "### Analysis On Salary"
   ]
  },
  {
   "cell_type": "code",
   "execution_count": 113,
   "id": "d05ff5c1",
   "metadata": {},
   "outputs": [
    {
     "data": {
      "text/plain": [
       "count    3.998000e+03\n",
       "mean     3.076998e+05\n",
       "std      2.127375e+05\n",
       "min      3.500000e+04\n",
       "25%      1.800000e+05\n",
       "50%      3.000000e+05\n",
       "75%      3.700000e+05\n",
       "max      4.000000e+06\n",
       "Name: Salary, dtype: float64"
      ]
     },
     "execution_count": 113,
     "metadata": {},
     "output_type": "execute_result"
    }
   ],
   "source": [
    "df1['Salary'].describe()"
   ]
  },
  {
   "cell_type": "code",
   "execution_count": 320,
   "id": "525baaaf",
   "metadata": {},
   "outputs": [
    {
     "data": {
      "text/plain": [
       "300000.0"
      ]
     },
     "execution_count": 320,
     "metadata": {},
     "output_type": "execute_result"
    }
   ],
   "source": [
    "df1['Salary'].median()"
   ]
  },
  {
   "cell_type": "code",
   "execution_count": 116,
   "id": "45fc76e0",
   "metadata": {},
   "outputs": [
    {
     "data": {
      "text/plain": [
       "<AxesSubplot:>"
      ]
     },
     "execution_count": 116,
     "metadata": {},
     "output_type": "execute_result"
    },
    {
     "data": {
      "image/png": "[encoded data removed]",
      "text/plain": [
       "<Figure size 640x480 with 1 Axes>"
      ]
     },
     "metadata": {},
     "output_type": "display_data"
    }
   ],
   "source": [
    "df1['Salary'].plot(kind='box')"
   ]
  },
  {
   "cell_type": "code",
   "execution_count": 119,
   "id": "a20c77f9",
   "metadata": {},
   "outputs": [],
   "source": [
    "salary_df=df1['Salary']< 1.51e6\n",
    "filtered_df = df1[salary_df]\n"
   ]
  },
  {
   "cell_type": "code",
   "execution_count": 120,
   "id": "7549a86a",
   "metadata": {},
   "outputs": [
    {
     "data": {
      "text/plain": [
       "<AxesSubplot:>"
      ]
     },
     "execution_count": 120,
     "metadata": {},
     "output_type": "execute_result"
    },
    {
     "data": {
      "image/png": "[encoded data removed]",
      "text/plain": [
       "<Figure size 640x480 with 1 Axes>"
      ]
     },
     "metadata": {},
     "output_type": "display_data"
    }
   ],
   "source": [
    "filtered_df['Salary'].plot(kind='box')"
   ]
  },
  {
   "cell_type": "code",
   "execution_count": 127,
   "id": "31ed7c00",
   "metadata": {},
   "outputs": [
    {
     "data": {
      "image/png": "[encoded data removed]",
      "text/plain": [
       "<Figure size 640x480 with 1 Axes>"
      ]
     },
     "metadata": {},
     "output_type": "display_data"
    }
   ],
   "source": [
    "import matplotlib.pyplot as plt\n",
    "plt.hist(filtered_df['Salary'], bins=10)\n",
    "\n",
    "plt.xlabel('Salary')\n",
    "plt.ylabel('Frequency')\n",
    "plt.title('Histogram of Data')\n",
    "\n",
    "plt.show()\n"
   ]
  },
  {
   "cell_type": "markdown",
   "id": "49c6f4a9",
   "metadata": {},
   "source": [
    "There are presence of many outliers in the salary column as expected,this could be due to years of experience,job designation,location or other factors, but the mean salary received is about 307,600 Indian Rupees"
   ]
  },
  {
   "cell_type": "markdown",
   "id": "090651ba",
   "metadata": {},
   "source": [
    "### Percentage Marks in Grade 10"
   ]
  },
  {
   "cell_type": "code",
   "execution_count": 121,
   "id": "24bf8aa5",
   "metadata": {},
   "outputs": [
    {
     "data": {
      "text/plain": [
       "count    3998.000000\n",
       "mean       77.925443\n",
       "std         9.850162\n",
       "min        43.000000\n",
       "25%        71.680000\n",
       "50%        79.150000\n",
       "75%        85.670000\n",
       "max        97.760000\n",
       "Name: Grade10_marks, dtype: float64"
      ]
     },
     "execution_count": 121,
     "metadata": {},
     "output_type": "execute_result"
    }
   ],
   "source": [
    "df1['Grade10_marks'].describe()"
   ]
  },
  {
   "cell_type": "code",
   "execution_count": 122,
   "id": "dcd2268e",
   "metadata": {},
   "outputs": [
    {
     "data": {
      "text/plain": [
       "<AxesSubplot:>"
      ]
     },
     "execution_count": 122,
     "metadata": {},
     "output_type": "execute_result"
    },
    {
     "data": {
      "image/png": "[encoded data removed]",
      "text/plain": [
       "<Figure size 640x480 with 1 Axes>"
      ]
     },
     "metadata": {},
     "output_type": "display_data"
    }
   ],
   "source": [
    "df1['Grade10_marks'].plot(kind='box')"
   ]
  },
  {
   "cell_type": "code",
   "execution_count": 128,
   "id": "2b8af39c",
   "metadata": {},
   "outputs": [
    {
     "data": {
      "image/png": "[encoded data removed]",
      "text/plain": [
       "<Figure size 640x480 with 1 Axes>"
      ]
     },
     "metadata": {},
     "output_type": "display_data"
    }
   ],
   "source": [
    "plt.hist(df1['Grade10_marks'], bins=10)\n",
    "\n",
    "plt.xlabel('Grade 10 Marks')\n",
    "plt.ylabel('Frequency')\n",
    "plt.title('Histogram of Data')\n",
    "\n",
    "plt.show()"
   ]
  },
  {
   "cell_type": "markdown",
   "id": "d9720475",
   "metadata": {},
   "source": [
    "Most of the student's 'Grade 10' percntage grade falls between 65% to 95%, this could be an indication of a high pass percentage"
   ]
  },
  {
   "cell_type": "markdown",
   "id": "85738664",
   "metadata": {},
   "source": [
    "### Percentage Marks In Graduation Year"
   ]
  },
  {
   "cell_type": "code",
   "execution_count": 129,
   "id": "82353084",
   "metadata": {},
   "outputs": [
    {
     "data": {
      "text/plain": [
       "count    3998.000000\n",
       "mean       74.466366\n",
       "std        10.999933\n",
       "min        40.000000\n",
       "25%        66.000000\n",
       "50%        74.400000\n",
       "75%        82.600000\n",
       "max        98.700000\n",
       "Name: Graduation_marks, dtype: float64"
      ]
     },
     "execution_count": 129,
     "metadata": {},
     "output_type": "execute_result"
    }
   ],
   "source": [
    "df1['Graduation_marks'].describe()"
   ]
  },
  {
   "cell_type": "code",
   "execution_count": 130,
   "id": "e99a3ab6",
   "metadata": {},
   "outputs": [
    {
     "data": {
      "text/plain": [
       "<AxesSubplot:>"
      ]
     },
     "execution_count": 130,
     "metadata": {},
     "output_type": "execute_result"
    },
    {
     "data": {
      "image/png": "[encoded data removed]",
      "text/plain": [
       "<Figure size 640x480 with 1 Axes>"
      ]
     },
     "metadata": {},
     "output_type": "display_data"
    }
   ],
   "source": [
    "df1['Graduation_marks'].plot(kind='box')"
   ]
  },
  {
   "cell_type": "code",
   "execution_count": 131,
   "id": "8365d7fc",
   "metadata": {},
   "outputs": [
    {
     "data": {
      "image/png": "[encoded data removed]",
      "text/plain": [
       "<Figure size 640x480 with 1 Axes>"
      ]
     },
     "metadata": {},
     "output_type": "display_data"
    }
   ],
   "source": [
    "plt.hist(df1['Graduation_marks'], bins=10)\n",
    "\n",
    "\n",
    "plt.xlabel('Graduation Marks')\n",
    "plt.ylabel('Frequency')\n",
    "plt.title('Histogram of Data')\n",
    "\n",
    "plt.show()"
   ]
  },
  {
   "cell_type": "markdown",
   "id": "996e9061",
   "metadata": {},
   "source": [
    "The results in the Graduation year look similar to that of the Grade 10, a lot of the percentage grades fall between 60 to 90% with an average of 74%"
   ]
  },
  {
   "cell_type": "markdown",
   "id": "58090a01",
   "metadata": {},
   "source": [
    "### College Tier"
   ]
  },
  {
   "cell_type": "code",
   "execution_count": 136,
   "id": "fb188a2d",
   "metadata": {},
   "outputs": [
    {
     "data": {
      "image/png": "[encoded data removed]",
      "text/plain": [
       "<Figure size 640x480 with 1 Axes>"
      ]
     },
     "metadata": {},
     "output_type": "display_data"
    }
   ],
   "source": [
    "plt.hist(df1['CollegeTier'], bins=3)\n",
    "\n",
    "plt.xlabel('College Tier')\n",
    "plt.ylabel('Frequency')\n",
    "plt.title('Histogram of Data')\n",
    "\n",
    "plt.show()"
   ]
  },
  {
   "cell_type": "markdown",
   "id": "b53c0e8e",
   "metadata": {},
   "source": [
    "Less than 500 colleges are in tier 1, the others are in the 2nd tier, this indicates less high quality colleges"
   ]
  },
  {
   "cell_type": "markdown",
   "id": "c99de3a7",
   "metadata": {},
   "source": [
    "### College GPA"
   ]
  },
  {
   "cell_type": "code",
   "execution_count": 138,
   "id": "0a25ea68",
   "metadata": {},
   "outputs": [
    {
     "data": {
      "text/plain": [
       "count    3998.000000\n",
       "mean       71.486171\n",
       "std         8.167338\n",
       "min         6.450000\n",
       "25%        66.407500\n",
       "50%        71.720000\n",
       "75%        76.327500\n",
       "max        99.930000\n",
       "Name: collegeGPA, dtype: float64"
      ]
     },
     "execution_count": 138,
     "metadata": {},
     "output_type": "execute_result"
    }
   ],
   "source": [
    "df1['collegeGPA'].describe()"
   ]
  },
  {
   "cell_type": "code",
   "execution_count": 137,
   "id": "6dced63e",
   "metadata": {},
   "outputs": [
    {
     "data": {
      "text/plain": [
       "<AxesSubplot:>"
      ]
     },
     "execution_count": 137,
     "metadata": {},
     "output_type": "execute_result"
    },
    {
     "data": {
      "image/png": "[encoded data removed]",
      "text/plain": [
       "<Figure size 640x480 with 1 Axes>"
      ]
     },
     "metadata": {},
     "output_type": "display_data"
    }
   ],
   "source": [
    "df1['collegeGPA'].plot(kind='box')"
   ]
  },
  {
   "cell_type": "code",
   "execution_count": 141,
   "id": "5ff48432",
   "metadata": {},
   "outputs": [
    {
     "data": {
      "image/png": "[encoded data removed]",
      "text/plain": [
       "<Figure size 640x480 with 1 Axes>"
      ]
     },
     "metadata": {},
     "output_type": "display_data"
    }
   ],
   "source": [
    "plt.hist(df1['collegeGPA'], bins=10)\n",
    "\n",
    "plt.xlabel('College GPA')\n",
    "plt.ylabel('Frequency')\n",
    "\n",
    "plt.show()"
   ]
  },
  {
   "cell_type": "code",
   "execution_count": 139,
   "id": "bbc37eeb",
   "metadata": {},
   "outputs": [],
   "source": [
    "College_GPA=df1['collegeGPA']>40\n",
    "filtered_college_gpa = df1[College_GPA]"
   ]
  },
  {
   "cell_type": "code",
   "execution_count": 140,
   "id": "d74acf29",
   "metadata": {},
   "outputs": [
    {
     "data": {
      "text/plain": [
       "<AxesSubplot:>"
      ]
     },
     "execution_count": 140,
     "metadata": {},
     "output_type": "execute_result"
    },
    {
     "data": {
      "image/png": "[encoded data removed]",
      "text/plain": [
       "<Figure size 640x480 with 1 Axes>"
      ]
     },
     "metadata": {},
     "output_type": "display_data"
    }
   ],
   "source": [
    "filtered_college_gpa['collegeGPA'].plot(kind='box')"
   ]
  },
  {
   "cell_type": "code",
   "execution_count": 142,
   "id": "c8895d91",
   "metadata": {},
   "outputs": [
    {
     "data": {
      "image/png": "[encoded data removed]",
      "text/plain": [
       "<Figure size 640x480 with 1 Axes>"
      ]
     },
     "metadata": {},
     "output_type": "display_data"
    }
   ],
   "source": [
    "plt.hist(filtered_college_gpa['collegeGPA'], bins=10)\n",
    "\n",
    "plt.xlabel('College GPA')\n",
    "plt.ylabel('Frequency')\n",
    "\n",
    "plt.show()"
   ]
  },
  {
   "cell_type": "markdown",
   "id": "7c173b39",
   "metadata": {},
   "source": [
    "About 25% of the college students, have a GPA percenatage less than 66, while the other 75% have GPA between 66% and 98%"
   ]
  },
  {
   "cell_type": "markdown",
   "id": "4cc2e569",
   "metadata": {},
   "source": [
    "### English Grades"
   ]
  },
  {
   "cell_type": "code",
   "execution_count": 145,
   "id": "18e15aa4",
   "metadata": {},
   "outputs": [
    {
     "data": {
      "image/png": "[encoded data removed]",
      "text/plain": [
       "<Figure size 640x480 with 1 Axes>"
      ]
     },
     "metadata": {},
     "output_type": "display_data"
    }
   ],
   "source": [
    "plt.hist(df1['English'], bins=10)\n",
    "\n",
    "plt.xlabel('English Grades')\n",
    "plt.ylabel('Frequency')\n",
    "\n",
    "plt.show()"
   ]
  },
  {
   "cell_type": "markdown",
   "id": "f9adf6df",
   "metadata": {},
   "source": [
    "The grades distribution are normalized, '500' are the most frequently occuring grades in the distribution"
   ]
  },
  {
   "cell_type": "markdown",
   "id": "18908be1",
   "metadata": {},
   "source": [
    "### Logic Grades"
   ]
  },
  {
   "cell_type": "code",
   "execution_count": 146,
   "id": "6aba1d84",
   "metadata": {},
   "outputs": [
    {
     "data": {
      "image/png": "[encoded data removed]",
      "text/plain": [
       "<Figure size 640x480 with 1 Axes>"
      ]
     },
     "metadata": {},
     "output_type": "display_data"
    }
   ],
   "source": [
    "plt.hist(df1['Logical'], bins=10)\n",
    "\n",
    "plt.xlabel('Logic Grades')\n",
    "plt.ylabel('Frequency')\n",
    "\n",
    "plt.show()"
   ]
  },
  {
   "cell_type": "markdown",
   "id": "a0f1cf83",
   "metadata": {},
   "source": [
    "### Quant Grades"
   ]
  },
  {
   "cell_type": "code",
   "execution_count": 147,
   "id": "775403fb",
   "metadata": {},
   "outputs": [
    {
     "data": {
      "image/png": "[encoded data removed]",
      "text/plain": [
       "<Figure size 640x480 with 1 Axes>"
      ]
     },
     "metadata": {},
     "output_type": "display_data"
    }
   ],
   "source": [
    "plt.hist(df1['Quant'], bins=10)\n",
    "\n",
    "plt.xlabel('Quant Grades')\n",
    "plt.ylabel('Frequency')\n",
    "\n",
    "plt.show()"
   ]
  },
  {
   "cell_type": "markdown",
   "id": "178ecfb2",
   "metadata": {},
   "source": [
    "### Job City"
   ]
  },
  {
   "cell_type": "code",
   "execution_count": 171,
   "id": "fcbbc24f",
   "metadata": {},
   "outputs": [],
   "source": [
    "count=df['JobCity'].value_counts()\n",
    "Jobcity_count=count.head(20)\n",
    "JobCity_df=Jobcity_count.to_frame().reset_index()\n",
    "JobCity_df.columns=['City','Count']"
   ]
  },
  {
   "cell_type": "code",
   "execution_count": 180,
   "id": "605b635c",
   "metadata": {},
   "outputs": [
    {
     "data": {
      "image/png": "[encoded data removed]",
      "text/plain": [
       "<Figure size 640x480 with 1 Axes>"
      ]
     },
     "metadata": {},
     "output_type": "display_data"
    },
    {
     "data": {
      "text/plain": [
       "<Figure size 1000x1000 with 0 Axes>"
      ]
     },
     "metadata": {},
     "output_type": "display_data"
    }
   ],
   "source": [
    "sns.barplot(data=JobCity_df, x='Count', y='City', order=JobCity_df['City'])\n",
    "\n",
    "plt.figure(figsize=(10, 10))\n",
    "\n",
    "plt.show()"
   ]
  },
  {
   "cell_type": "markdown",
   "id": "51d89fd0",
   "metadata": {},
   "source": [
    "Bangalore is the city that has the highest number of jobs available to Engineers"
   ]
  },
  {
   "cell_type": "markdown",
   "id": "2f0b38e9",
   "metadata": {},
   "source": [
    "### State Of College"
   ]
  },
  {
   "cell_type": "code",
   "execution_count": 186,
   "id": "5aec0df6",
   "metadata": {},
   "outputs": [],
   "source": [
    "count=df['CollegeState'].value_counts()\n",
    "CollegeState_count=count.head(20)\n",
    "CollegeState_df=CollegeState_count.to_frame().reset_index()\n",
    "CollegeState_df.columns=['CollegeState','Count']"
   ]
  },
  {
   "cell_type": "code",
   "execution_count": 188,
   "id": "64046ab6",
   "metadata": {},
   "outputs": [
    {
     "data": {
      "image/png": "[encoded data removed]",
      "text/plain": [
       "<Figure size 640x480 with 1 Axes>"
      ]
     },
     "metadata": {},
     "output_type": "display_data"
    },
    {
     "data": {
      "text/plain": [
       "<Figure size 1000x1000 with 0 Axes>"
      ]
     },
     "metadata": {},
     "output_type": "display_data"
    }
   ],
   "source": [
    "sns.barplot(data=CollegeState_df, x='Count', y='CollegeState', order=CollegeState_df['CollegeState'])\n",
    "\n",
    "plt.figure(figsize=(10, 10))\n",
    "\n",
    "plt.show()"
   ]
  },
  {
   "cell_type": "markdown",
   "id": "de5da706",
   "metadata": {},
   "source": [
    "Most Colleges attended by Engineering Students are in Uttar Pradesh and Karnataka"
   ]
  },
  {
   "cell_type": "markdown",
   "id": "d5006caf",
   "metadata": {},
   "source": [
    "### Degree"
   ]
  },
  {
   "cell_type": "code",
   "execution_count": 295,
   "id": "b93eedf6",
   "metadata": {},
   "outputs": [
    {
     "data": {
      "text/plain": [
       "B.Tech/B.E.      3700\n",
       "MCA               243\n",
       "M.Tech./M.E.       53\n",
       "M.Sc. (Tech.)       2\n",
       "Name: Degree, dtype: int64"
      ]
     },
     "execution_count": 295,
     "metadata": {},
     "output_type": "execute_result"
    }
   ],
   "source": [
    "degree_count = df1['Degree'].value_counts()\n",
    "degree_count"
   ]
  },
  {
   "cell_type": "markdown",
   "id": "2b281bf4",
   "metadata": {},
   "source": [
    "Only 9% of the students have a Masters Degree"
   ]
  },
  {
   "cell_type": "markdown",
   "id": "4262b228",
   "metadata": {},
   "source": [
    "### Specialization"
   ]
  },
  {
   "cell_type": "code",
   "execution_count": 297,
   "id": "27475d86",
   "metadata": {},
   "outputs": [
    {
     "data": {
      "text/plain": [
       "electronics and communication engineering      880\n",
       "computer science & engineering                 744\n",
       "information technology                         660\n",
       "computer engineering                           600\n",
       "computer application                           244\n",
       "mechanical engineering                         201\n",
       "electronics and electrical engineering         196\n",
       "electronics & telecommunications               121\n",
       "electrical engineering                          82\n",
       "electronics & instrumentation eng               32\n",
       "civil engineering                               29\n",
       "electronics and instrumentation engineering     27\n",
       "information science engineering                 27\n",
       "instrumentation and control engineering         20\n",
       "electronics engineering                         19\n",
       "biotechnology                                   15\n",
       "other                                           13\n",
       "industrial & production engineering             10\n",
       "applied electronics and instrumentation          9\n",
       "chemical engineering                             9\n",
       "Name: Specialization, dtype: int64"
      ]
     },
     "execution_count": 297,
     "metadata": {},
     "output_type": "execute_result"
    }
   ],
   "source": [
    "specialization_count = df['Specialization'].value_counts()\n",
    "specialization_count[:20]\n"
   ]
  },
  {
   "cell_type": "code",
   "execution_count": 298,
   "id": "e7df2138",
   "metadata": {},
   "outputs": [
    {
     "data": {
      "text/plain": [
       "Text(0.5, 1.0, 'Specialization pursued by the candidate')"
      ]
     },
     "execution_count": 298,
     "metadata": {},
     "output_type": "execute_result"
    },
    {
     "data": {
      "image/png": "[encoded data removed]",
      "text/plain": [
       "<Figure size 1200x1000 with 1 Axes>"
      ]
     },
     "metadata": {},
     "output_type": "display_data"
    }
   ],
   "source": [
    "#Plotting the most frequent specialization\n",
    "sns.set_style(\"darkgrid\")\n",
    "plt.figure(figsize=(12,10))\n",
    "specialization_count[:10].plot(kind='bar' , width=0.9)\n",
    "plt.xlabel('Specialization')\n",
    "plt.ylabel('Count')\n",
    "plt.title('Specialization pursued by the candidate')\n"
   ]
  },
  {
   "cell_type": "markdown",
   "id": "0cc7b5a8",
   "metadata": {},
   "source": [
    "Electronics and Communication engineering/Computer science  and Engineering majors have the most students"
   ]
  },
  {
   "cell_type": "markdown",
   "id": "eca110f6",
   "metadata": {},
   "source": [
    "### Graduation Board"
   ]
  },
  {
   "cell_type": "code",
   "execution_count": 302,
   "id": "e4d05a4d",
   "metadata": {},
   "outputs": [],
   "source": [
    "Graduationboard_count = df['Graduation_board'].value_counts()"
   ]
  },
  {
   "cell_type": "code",
   "execution_count": 301,
   "id": "d7820705",
   "metadata": {},
   "outputs": [
    {
     "data": {
      "text/plain": [
       "Text(0, 0.5, 'Count')"
      ]
     },
     "execution_count": 301,
     "metadata": {},
     "output_type": "execute_result"
    },
    {
     "data": {
      "image/png": "[encoded data removed]",
      "text/plain": [
       "<Figure size 1200x1000 with 1 Axes>"
      ]
     },
     "metadata": {},
     "output_type": "display_data"
    }
   ],
   "source": [
    "sns.set_style(\"darkgrid\")\n",
    "plt.figure(figsize=(12,10))\n",
    "Graduationboard_count[:10].plot(kind='bar' , width=0.9)\n",
    "plt.xlabel('Graduation Board')\n",
    "plt.ylabel('Count')\n"
   ]
  },
  {
   "cell_type": "markdown",
   "id": "b5ad8e1d",
   "metadata": {},
   "source": [
    "The central board of secondary education and the state board are the graduation boards used frequently"
   ]
  },
  {
   "cell_type": "markdown",
   "id": "a17e2c9e",
   "metadata": {},
   "source": [
    "### Gender"
   ]
  },
  {
   "cell_type": "code",
   "execution_count": 312,
   "id": "d1c16428",
   "metadata": {},
   "outputs": [
    {
     "data": {
      "text/plain": [
       "<AxesSubplot:xlabel='Gender', ylabel='count'>"
      ]
     },
     "execution_count": 312,
     "metadata": {},
     "output_type": "execute_result"
    },
    {
     "data": {
      "image/png": "[encoded data removed]",
      "text/plain": [
       "<Figure size 640x480 with 1 Axes>"
      ]
     },
     "metadata": {},
     "output_type": "display_data"
    }
   ],
   "source": [
    "sns.countplot(x =\"Gender\",data = df1)"
   ]
  },
  {
   "cell_type": "markdown",
   "id": "a5c60a64",
   "metadata": {},
   "source": [
    "There are more males than females in the field"
   ]
  },
  {
   "cell_type": "markdown",
   "id": "d253b9a0",
   "metadata": {},
   "source": [
    "## Bivariate Analysis"
   ]
  },
  {
   "cell_type": "markdown",
   "id": "496bcfec",
   "metadata": {},
   "source": [
    "### Duration Of Jobs"
   ]
  },
  {
   "cell_type": "code",
   "execution_count": 192,
   "id": "5e692b57",
   "metadata": {},
   "outputs": [],
   "source": [
    "JobDuration_df=df1[['DOJ','DOL']]"
   ]
  },
  {
   "cell_type": "code",
   "execution_count": 195,
   "id": "7ce0ad51",
   "metadata": {},
   "outputs": [
    {
     "data": {
      "text/html": [
       "<div>\n",
       "<style scoped>\n",
       "    .dataframe tbody tr th:only-of-type {\n",
       "        vertical-align: middle;\n",
       "    }\n",
       "\n",
       "    .dataframe tbody tr th {\n",
       "        vertical-align: top;\n",
       "    }\n",
       "\n",
       "    .dataframe thead th {\n",
       "        text-align: right;\n",
       "    }\n",
       "</style>\n",
       "<table border=\"1\" class=\"dataframe\">\n",
       "  <thead>\n",
       "    <tr style=\"text-align: right;\">\n",
       "      <th></th>\n",
       "      <th>DOJ</th>\n",
       "      <th>DOL</th>\n",
       "    </tr>\n",
       "  </thead>\n",
       "  <tbody>\n",
       "    <tr>\n",
       "      <th>0</th>\n",
       "      <td>2012-06-01</td>\n",
       "      <td>present</td>\n",
       "    </tr>\n",
       "    <tr>\n",
       "      <th>1</th>\n",
       "      <td>2013-09-01</td>\n",
       "      <td>present</td>\n",
       "    </tr>\n",
       "    <tr>\n",
       "      <th>2</th>\n",
       "      <td>2014-06-01</td>\n",
       "      <td>present</td>\n",
       "    </tr>\n",
       "    <tr>\n",
       "      <th>3</th>\n",
       "      <td>2011-07-01</td>\n",
       "      <td>present</td>\n",
       "    </tr>\n",
       "    <tr>\n",
       "      <th>4</th>\n",
       "      <td>2014-03-01</td>\n",
       "      <td>2015-03-01 00:00:00</td>\n",
       "    </tr>\n",
       "  </tbody>\n",
       "</table>\n",
       "</div>"
      ],
      "text/plain": [
       "         DOJ                  DOL\n",
       "0 2012-06-01              present\n",
       "1 2013-09-01              present\n",
       "2 2014-06-01              present\n",
       "3 2011-07-01              present\n",
       "4 2014-03-01  2015-03-01 00:00:00"
      ]
     },
     "execution_count": 195,
     "metadata": {},
     "output_type": "execute_result"
    }
   ],
   "source": [
    "JobDuration_df.head()"
   ]
  },
  {
   "cell_type": "code",
   "execution_count": 199,
   "id": "7f0d2142",
   "metadata": {},
   "outputs": [
    {
     "data": {
      "text/plain": [
       "1875"
      ]
     },
     "execution_count": 199,
     "metadata": {},
     "output_type": "execute_result"
    }
   ],
   "source": [
    "len(JobDuration_df[JobDuration_df['DOL']=='present'])"
   ]
  },
  {
   "cell_type": "code",
   "execution_count": 200,
   "id": "5c1efc01",
   "metadata": {},
   "outputs": [
    {
     "data": {
      "text/plain": [
       "3998"
      ]
     },
     "execution_count": 200,
     "metadata": {},
     "output_type": "execute_result"
    }
   ],
   "source": [
    "len(JobDuration_df)"
   ]
  },
  {
   "cell_type": "code",
   "execution_count": 203,
   "id": "9f034555",
   "metadata": {},
   "outputs": [],
   "source": [
    "not_presentdf=JobDuration_df[JobDuration_df['DOL']!='present']"
   ]
  },
  {
   "cell_type": "code",
   "execution_count": 204,
   "id": "7d8284a4",
   "metadata": {},
   "outputs": [
    {
     "data": {
      "text/plain": [
       "4      2015-03-01\n",
       "6      2015-05-01\n",
       "7      2015-07-01\n",
       "10     2015-04-01\n",
       "11     2014-10-01\n",
       "          ...    \n",
       "3991   2014-10-01\n",
       "3992   2015-04-01\n",
       "3993   2012-10-01\n",
       "3994   2013-07-01\n",
       "3996   2015-01-01\n",
       "Name: DOL, Length: 2123, dtype: datetime64[ns]"
      ]
     },
     "execution_count": 204,
     "metadata": {},
     "output_type": "execute_result"
    }
   ],
   "source": [
    "pd.to_datetime(not_presentdf['DOL'])"
   ]
  },
  {
   "cell_type": "code",
   "execution_count": 208,
   "id": "570b9212",
   "metadata": {},
   "outputs": [
    {
     "data": {
      "text/html": [
       "<div>\n",
       "<style scoped>\n",
       "    .dataframe tbody tr th:only-of-type {\n",
       "        vertical-align: middle;\n",
       "    }\n",
       "\n",
       "    .dataframe tbody tr th {\n",
       "        vertical-align: top;\n",
       "    }\n",
       "\n",
       "    .dataframe thead th {\n",
       "        text-align: right;\n",
       "    }\n",
       "</style>\n",
       "<table border=\"1\" class=\"dataframe\">\n",
       "  <thead>\n",
       "    <tr style=\"text-align: right;\">\n",
       "      <th></th>\n",
       "      <th>DOJ</th>\n",
       "      <th>DOL</th>\n",
       "    </tr>\n",
       "  </thead>\n",
       "  <tbody>\n",
       "    <tr>\n",
       "      <th>4</th>\n",
       "      <td>2014-03-01</td>\n",
       "      <td>2015-03-01 00:00:00</td>\n",
       "    </tr>\n",
       "    <tr>\n",
       "      <th>6</th>\n",
       "      <td>2014-08-01</td>\n",
       "      <td>2015-05-01 00:00:00</td>\n",
       "    </tr>\n",
       "    <tr>\n",
       "      <th>7</th>\n",
       "      <td>2014-07-01</td>\n",
       "      <td>2015-07-01 00:00:00</td>\n",
       "    </tr>\n",
       "    <tr>\n",
       "      <th>10</th>\n",
       "      <td>2011-04-01</td>\n",
       "      <td>2015-04-01 00:00:00</td>\n",
       "    </tr>\n",
       "    <tr>\n",
       "      <th>11</th>\n",
       "      <td>2011-08-01</td>\n",
       "      <td>2014-10-01 00:00:00</td>\n",
       "    </tr>\n",
       "  </tbody>\n",
       "</table>\n",
       "</div>"
      ],
      "text/plain": [
       "          DOJ                  DOL\n",
       "4  2014-03-01  2015-03-01 00:00:00\n",
       "6  2014-08-01  2015-05-01 00:00:00\n",
       "7  2014-07-01  2015-07-01 00:00:00\n",
       "10 2011-04-01  2015-04-01 00:00:00\n",
       "11 2011-08-01  2014-10-01 00:00:00"
      ]
     },
     "execution_count": 208,
     "metadata": {},
     "output_type": "execute_result"
    }
   ],
   "source": [
    "not_presentdf.head(5)"
   ]
  },
  {
   "cell_type": "code",
   "execution_count": 223,
   "id": "001a706c",
   "metadata": {},
   "outputs": [
    {
     "name": "stderr",
     "output_type": "stream",
     "text": [
      "/var/folders/17/f7z1bkt16517dfnzz7sbsb240000gn/T/ipykernel_59740/3841498328.py:1: SettingWithCopyWarning: \n",
      "A value is trying to be set on a copy of a slice from a DataFrame.\n",
      "Try using .loc[row_indexer,col_indexer] = value instead\n",
      "\n",
      "See the caveats in the documentation: https://pandas.pydata.org/pandas-docs/stable/user_guide/indexing.html#returning-a-view-versus-a-copy\n",
      "  not_presentdf['DOL']= pd.to_datetime(not_presentdf['DOL'])\n",
      "/var/folders/17/f7z1bkt16517dfnzz7sbsb240000gn/T/ipykernel_59740/3841498328.py:2: SettingWithCopyWarning: \n",
      "A value is trying to be set on a copy of a slice from a DataFrame.\n",
      "Try using .loc[row_indexer,col_indexer] = value instead\n",
      "\n",
      "See the caveats in the documentation: https://pandas.pydata.org/pandas-docs/stable/user_guide/indexing.html#returning-a-view-versus-a-copy\n",
      "  not_presentdf['DOL']= pd.to_datetime(not_presentdf['DOL'])\n"
     ]
    }
   ],
   "source": [
    "not_presentdf['DOL']= pd.to_datetime(not_presentdf['DOL'])\n",
    "not_presentdf['DOL']= pd.to_datetime(not_presentdf['DOL'])"
   ]
  },
  {
   "cell_type": "code",
   "execution_count": 224,
   "id": "8ad0b628",
   "metadata": {},
   "outputs": [
    {
     "name": "stderr",
     "output_type": "stream",
     "text": [
      "/var/folders/17/f7z1bkt16517dfnzz7sbsb240000gn/T/ipykernel_59740/3970094264.py:1: SettingWithCopyWarning: \n",
      "A value is trying to be set on a copy of a slice from a DataFrame.\n",
      "Try using .loc[row_indexer,col_indexer] = value instead\n",
      "\n",
      "See the caveats in the documentation: https://pandas.pydata.org/pandas-docs/stable/user_guide/indexing.html#returning-a-view-versus-a-copy\n",
      "  not_presentdf['duration']=not_presentdf['DOL']-not_presentdf['DOJ']\n"
     ]
    }
   ],
   "source": [
    "not_presentdf['duration']=not_presentdf['DOL']-not_presentdf['DOJ']"
   ]
  },
  {
   "cell_type": "code",
   "execution_count": 252,
   "id": "b347776e",
   "metadata": {},
   "outputs": [
    {
     "name": "stderr",
     "output_type": "stream",
     "text": [
      "/var/folders/17/f7z1bkt16517dfnzz7sbsb240000gn/T/ipykernel_59740/3554449131.py:1: SettingWithCopyWarning: \n",
      "A value is trying to be set on a copy of a slice from a DataFrame.\n",
      "Try using .loc[row_indexer,col_indexer] = value instead\n",
      "\n",
      "See the caveats in the documentation: https://pandas.pydata.org/pandas-docs/stable/user_guide/indexing.html#returning-a-view-versus-a-copy\n",
      "  not_presentdf['days'] = not_presentdf['duration'].astype(str).str.split(' ').str[0]\n"
     ]
    }
   ],
   "source": [
    "not_presentdf['days'] = not_presentdf['duration'].astype(str).str.split(' ').str[0]\n"
   ]
  },
  {
   "cell_type": "code",
   "execution_count": 253,
   "id": "cfc3f749",
   "metadata": {},
   "outputs": [
    {
     "data": {
      "text/html": [
       "<div>\n",
       "<style scoped>\n",
       "    .dataframe tbody tr th:only-of-type {\n",
       "        vertical-align: middle;\n",
       "    }\n",
       "\n",
       "    .dataframe tbody tr th {\n",
       "        vertical-align: top;\n",
       "    }\n",
       "\n",
       "    .dataframe thead th {\n",
       "        text-align: right;\n",
       "    }\n",
       "</style>\n",
       "<table border=\"1\" class=\"dataframe\">\n",
       "  <thead>\n",
       "    <tr style=\"text-align: right;\">\n",
       "      <th></th>\n",
       "      <th>DOJ</th>\n",
       "      <th>DOL</th>\n",
       "      <th>duration</th>\n",
       "      <th>days</th>\n",
       "    </tr>\n",
       "  </thead>\n",
       "  <tbody>\n",
       "    <tr>\n",
       "      <th>4</th>\n",
       "      <td>2014-03-01</td>\n",
       "      <td>2015-03-01</td>\n",
       "      <td>365 days</td>\n",
       "      <td>365</td>\n",
       "    </tr>\n",
       "    <tr>\n",
       "      <th>6</th>\n",
       "      <td>2014-08-01</td>\n",
       "      <td>2015-05-01</td>\n",
       "      <td>273 days</td>\n",
       "      <td>273</td>\n",
       "    </tr>\n",
       "    <tr>\n",
       "      <th>7</th>\n",
       "      <td>2014-07-01</td>\n",
       "      <td>2015-07-01</td>\n",
       "      <td>365 days</td>\n",
       "      <td>365</td>\n",
       "    </tr>\n",
       "    <tr>\n",
       "      <th>10</th>\n",
       "      <td>2011-04-01</td>\n",
       "      <td>2015-04-01</td>\n",
       "      <td>1461 days</td>\n",
       "      <td>1461</td>\n",
       "    </tr>\n",
       "    <tr>\n",
       "      <th>11</th>\n",
       "      <td>2011-08-01</td>\n",
       "      <td>2014-10-01</td>\n",
       "      <td>1157 days</td>\n",
       "      <td>1157</td>\n",
       "    </tr>\n",
       "    <tr>\n",
       "      <th>17</th>\n",
       "      <td>2013-08-01</td>\n",
       "      <td>2014-09-01</td>\n",
       "      <td>396 days</td>\n",
       "      <td>396</td>\n",
       "    </tr>\n",
       "    <tr>\n",
       "      <th>18</th>\n",
       "      <td>2014-01-01</td>\n",
       "      <td>2014-06-01</td>\n",
       "      <td>151 days</td>\n",
       "      <td>151</td>\n",
       "    </tr>\n",
       "    <tr>\n",
       "      <th>20</th>\n",
       "      <td>2010-11-01</td>\n",
       "      <td>2012-09-01</td>\n",
       "      <td>670 days</td>\n",
       "      <td>670</td>\n",
       "    </tr>\n",
       "    <tr>\n",
       "      <th>21</th>\n",
       "      <td>2012-08-01</td>\n",
       "      <td>2013-12-01</td>\n",
       "      <td>487 days</td>\n",
       "      <td>487</td>\n",
       "    </tr>\n",
       "    <tr>\n",
       "      <th>22</th>\n",
       "      <td>2013-10-01</td>\n",
       "      <td>2015-04-01</td>\n",
       "      <td>547 days</td>\n",
       "      <td>547</td>\n",
       "    </tr>\n",
       "    <tr>\n",
       "      <th>23</th>\n",
       "      <td>2014-08-01</td>\n",
       "      <td>2015-04-01</td>\n",
       "      <td>243 days</td>\n",
       "      <td>243</td>\n",
       "    </tr>\n",
       "    <tr>\n",
       "      <th>24</th>\n",
       "      <td>2014-06-01</td>\n",
       "      <td>2015-06-01</td>\n",
       "      <td>365 days</td>\n",
       "      <td>365</td>\n",
       "    </tr>\n",
       "    <tr>\n",
       "      <th>26</th>\n",
       "      <td>2011-01-01</td>\n",
       "      <td>2013-10-01</td>\n",
       "      <td>1004 days</td>\n",
       "      <td>1004</td>\n",
       "    </tr>\n",
       "    <tr>\n",
       "      <th>27</th>\n",
       "      <td>2014-09-01</td>\n",
       "      <td>2015-01-01</td>\n",
       "      <td>122 days</td>\n",
       "      <td>122</td>\n",
       "    </tr>\n",
       "    <tr>\n",
       "      <th>28</th>\n",
       "      <td>2015-02-01</td>\n",
       "      <td>2015-04-01</td>\n",
       "      <td>59 days</td>\n",
       "      <td>59</td>\n",
       "    </tr>\n",
       "    <tr>\n",
       "      <th>29</th>\n",
       "      <td>2014-11-01</td>\n",
       "      <td>2014-04-01</td>\n",
       "      <td>-214 days</td>\n",
       "      <td>-214</td>\n",
       "    </tr>\n",
       "    <tr>\n",
       "      <th>31</th>\n",
       "      <td>2014-08-01</td>\n",
       "      <td>2015-04-01</td>\n",
       "      <td>243 days</td>\n",
       "      <td>243</td>\n",
       "    </tr>\n",
       "    <tr>\n",
       "      <th>37</th>\n",
       "      <td>2010-10-01</td>\n",
       "      <td>2015-04-01</td>\n",
       "      <td>1643 days</td>\n",
       "      <td>1643</td>\n",
       "    </tr>\n",
       "    <tr>\n",
       "      <th>39</th>\n",
       "      <td>2013-01-01</td>\n",
       "      <td>2013-06-01</td>\n",
       "      <td>151 days</td>\n",
       "      <td>151</td>\n",
       "    </tr>\n",
       "    <tr>\n",
       "      <th>40</th>\n",
       "      <td>2011-06-01</td>\n",
       "      <td>2012-03-01</td>\n",
       "      <td>274 days</td>\n",
       "      <td>274</td>\n",
       "    </tr>\n",
       "    <tr>\n",
       "      <th>41</th>\n",
       "      <td>2014-07-01</td>\n",
       "      <td>2014-09-01</td>\n",
       "      <td>62 days</td>\n",
       "      <td>62</td>\n",
       "    </tr>\n",
       "    <tr>\n",
       "      <th>43</th>\n",
       "      <td>2014-04-01</td>\n",
       "      <td>2015-04-01</td>\n",
       "      <td>365 days</td>\n",
       "      <td>365</td>\n",
       "    </tr>\n",
       "    <tr>\n",
       "      <th>44</th>\n",
       "      <td>2012-05-01</td>\n",
       "      <td>2015-04-01</td>\n",
       "      <td>1065 days</td>\n",
       "      <td>1065</td>\n",
       "    </tr>\n",
       "    <tr>\n",
       "      <th>45</th>\n",
       "      <td>2014-09-01</td>\n",
       "      <td>2015-01-01</td>\n",
       "      <td>122 days</td>\n",
       "      <td>122</td>\n",
       "    </tr>\n",
       "    <tr>\n",
       "      <th>46</th>\n",
       "      <td>2013-07-01</td>\n",
       "      <td>2015-04-01</td>\n",
       "      <td>639 days</td>\n",
       "      <td>639</td>\n",
       "    </tr>\n",
       "    <tr>\n",
       "      <th>47</th>\n",
       "      <td>2012-10-01</td>\n",
       "      <td>2013-10-01</td>\n",
       "      <td>365 days</td>\n",
       "      <td>365</td>\n",
       "    </tr>\n",
       "    <tr>\n",
       "      <th>49</th>\n",
       "      <td>2012-05-01</td>\n",
       "      <td>2014-07-01</td>\n",
       "      <td>791 days</td>\n",
       "      <td>791</td>\n",
       "    </tr>\n",
       "    <tr>\n",
       "      <th>50</th>\n",
       "      <td>2011-06-01</td>\n",
       "      <td>2013-02-01</td>\n",
       "      <td>611 days</td>\n",
       "      <td>611</td>\n",
       "    </tr>\n",
       "    <tr>\n",
       "      <th>58</th>\n",
       "      <td>2013-06-01</td>\n",
       "      <td>2014-01-01</td>\n",
       "      <td>214 days</td>\n",
       "      <td>214</td>\n",
       "    </tr>\n",
       "    <tr>\n",
       "      <th>59</th>\n",
       "      <td>2009-09-01</td>\n",
       "      <td>2013-04-01</td>\n",
       "      <td>1308 days</td>\n",
       "      <td>1308</td>\n",
       "    </tr>\n",
       "  </tbody>\n",
       "</table>\n",
       "</div>"
      ],
      "text/plain": [
       "          DOJ        DOL  duration  days\n",
       "4  2014-03-01 2015-03-01  365 days   365\n",
       "6  2014-08-01 2015-05-01  273 days   273\n",
       "7  2014-07-01 2015-07-01  365 days   365\n",
       "10 2011-04-01 2015-04-01 1461 days  1461\n",
       "11 2011-08-01 2014-10-01 1157 days  1157\n",
       "17 2013-08-01 2014-09-01  396 days   396\n",
       "18 2014-01-01 2014-06-01  151 days   151\n",
       "20 2010-11-01 2012-09-01  670 days   670\n",
       "21 2012-08-01 2013-12-01  487 days   487\n",
       "22 2013-10-01 2015-04-01  547 days   547\n",
       "23 2014-08-01 2015-04-01  243 days   243\n",
       "24 2014-06-01 2015-06-01  365 days   365\n",
       "26 2011-01-01 2013-10-01 1004 days  1004\n",
       "27 2014-09-01 2015-01-01  122 days   122\n",
       "28 2015-02-01 2015-04-01   59 days    59\n",
       "29 2014-11-01 2014-04-01 -214 days  -214\n",
       "31 2014-08-01 2015-04-01  243 days   243\n",
       "37 2010-10-01 2015-04-01 1643 days  1643\n",
       "39 2013-01-01 2013-06-01  151 days   151\n",
       "40 2011-06-01 2012-03-01  274 days   274\n",
       "41 2014-07-01 2014-09-01   62 days    62\n",
       "43 2014-04-01 2015-04-01  365 days   365\n",
       "44 2012-05-01 2015-04-01 1065 days  1065\n",
       "45 2014-09-01 2015-01-01  122 days   122\n",
       "46 2013-07-01 2015-04-01  639 days   639\n",
       "47 2012-10-01 2013-10-01  365 days   365\n",
       "49 2012-05-01 2014-07-01  791 days   791\n",
       "50 2011-06-01 2013-02-01  611 days   611\n",
       "58 2013-06-01 2014-01-01  214 days   214\n",
       "59 2009-09-01 2013-04-01 1308 days  1308"
      ]
     },
     "execution_count": 253,
     "metadata": {},
     "output_type": "execute_result"
    }
   ],
   "source": [
    "not_presentdf.head(30)"
   ]
  },
  {
   "cell_type": "code",
   "execution_count": 260,
   "id": "08f67478",
   "metadata": {},
   "outputs": [
    {
     "name": "stderr",
     "output_type": "stream",
     "text": [
      "/var/folders/17/f7z1bkt16517dfnzz7sbsb240000gn/T/ipykernel_59740/4167918857.py:1: SettingWithCopyWarning: \n",
      "A value is trying to be set on a copy of a slice from a DataFrame.\n",
      "Try using .loc[row_indexer,col_indexer] = value instead\n",
      "\n",
      "See the caveats in the documentation: https://pandas.pydata.org/pandas-docs/stable/user_guide/indexing.html#returning-a-view-versus-a-copy\n",
      "  not_presentdf.loc[:, 'days'] = not_presentdf['days'].astype(int)\n"
     ]
    }
   ],
   "source": [
    "not_presentdf.loc[:, 'days'] = not_presentdf['days'].astype(int)"
   ]
  },
  {
   "cell_type": "code",
   "execution_count": 259,
   "id": "9546190a",
   "metadata": {},
   "outputs": [
    {
     "data": {
      "text/plain": [
       "count    2123.000000\n",
       "mean      460.486576\n",
       "std       362.710252\n",
       "min      -303.000000\n",
       "25%       184.000000\n",
       "50%       365.000000\n",
       "75%       641.000000\n",
       "max      2192.000000\n",
       "Name: days, dtype: float64"
      ]
     },
     "execution_count": 259,
     "metadata": {},
     "output_type": "execute_result"
    }
   ],
   "source": [
    "not_presentdf['days'].describe()\n",
    "#there are some job durations less than 0 day which doesn't make sense"
   ]
  },
  {
   "cell_type": "code",
   "execution_count": 263,
   "id": "ff7f2bea",
   "metadata": {},
   "outputs": [],
   "source": [
    "#drop the days that are less than 0\n",
    "not_presentdf=not_presentdf.drop(not_presentdf[not_presentdf['days']<0].index)"
   ]
  },
  {
   "cell_type": "code",
   "execution_count": 264,
   "id": "cd0c4b63",
   "metadata": {
    "scrolled": true
   },
   "outputs": [
    {
     "data": {
      "text/plain": [
       "count    2083.000000\n",
       "mean      472.449832\n",
       "std       355.520842\n",
       "min         0.000000\n",
       "25%       212.000000\n",
       "50%       365.000000\n",
       "75%       669.000000\n",
       "max      2192.000000\n",
       "Name: days, dtype: float64"
      ]
     },
     "execution_count": 264,
     "metadata": {},
     "output_type": "execute_result"
    }
   ],
   "source": [
    "not_presentdf['days'].describe()"
   ]
  },
  {
   "cell_type": "markdown",
   "id": "dd819188",
   "metadata": {},
   "source": [
    "Highest duration of stay at a job is 2,192 for those not working currently, with the average at 472 days"
   ]
  },
  {
   "cell_type": "markdown",
   "id": "af0a016f",
   "metadata": {},
   "source": [
    "## Salary Per Designation"
   ]
  },
  {
   "cell_type": "code",
   "execution_count": 267,
   "id": "472a7b7b",
   "metadata": {},
   "outputs": [],
   "source": [
    "salary_per_designation=df1.groupby('Designation')['Salary'].mean()"
   ]
  },
  {
   "cell_type": "code",
   "execution_count": 269,
   "id": "6b29779b",
   "metadata": {},
   "outputs": [],
   "source": [
    "salary_per_designation.to_frame().reset_index()\n",
    "salary_per_designation.columns=['Designation','Average_Salary']"
   ]
  },
  {
   "cell_type": "code",
   "execution_count": 293,
   "id": "e97ed61d",
   "metadata": {},
   "outputs": [],
   "source": [
    "sorted_df = salary_per_designation.sort_values( ascending=False)\n",
    "top10_salaries=sorted_df[:10]"
   ]
  },
  {
   "cell_type": "code",
   "execution_count": 294,
   "id": "f7c7c41a",
   "metadata": {},
   "outputs": [
    {
     "data": {
      "image/png": "[encoded data removed]",
      "text/plain": [
       "<Figure size 1200x800 with 1 Axes>"
      ]
     },
     "metadata": {},
     "output_type": "display_data"
    }
   ],
   "source": [
    "top10_salaries.plot(x='Designation', y='Salary', kind='bar', figsize=(12,8))\n",
    "plt.title('Average Salary per Designation')\n",
    "plt.xlabel('Designation')\n",
    "plt.ylabel('Average Salary')\n",
    "plt.show()\n"
   ]
  },
  {
   "cell_type": "markdown",
   "id": "dfd3e2f5",
   "metadata": {},
   "source": [
    "The junior manager and data scientist roles pay the highest averagely"
   ]
  },
  {
   "cell_type": "markdown",
   "id": "9fe3a722",
   "metadata": {},
   "source": [
    "### Salary by Gender"
   ]
  },
  {
   "cell_type": "code",
   "execution_count": 308,
   "id": "d867d5ef",
   "metadata": {},
   "outputs": [
    {
     "data": {
      "text/plain": [
       "Gender\n",
       "f    300000.0\n",
       "m    300000.0\n",
       "Name: Salary, dtype: float64"
      ]
     },
     "execution_count": 308,
     "metadata": {},
     "output_type": "execute_result"
    }
   ],
   "source": [
    "df1.groupby('Gender')['Salary'].median()"
   ]
  },
  {
   "cell_type": "code",
   "execution_count": 309,
   "id": "82922ecf",
   "metadata": {},
   "outputs": [
    {
     "data": {
      "image/png": "[encoded data removed]",
      "text/plain": [
       "<Figure size 800x800 with 1 Axes>"
      ]
     },
     "metadata": {},
     "output_type": "display_data"
    }
   ],
   "source": [
    "gender_salary_median = df1.groupby('Gender')['Salary'].median()\n",
    "gender_salary_median.plot(kind='pie', figsize=(8, 8), autopct='%1.1f%%', startangle=90)\n",
    "plt.title('Median Salary by Gender')\n",
    "plt.legend()\n",
    "plt.show()"
   ]
  },
  {
   "cell_type": "markdown",
   "id": "7474692c",
   "metadata": {},
   "source": [
    "The salary compensation is similar in both genders"
   ]
  },
  {
   "cell_type": "code",
   "execution_count": 335,
   "id": "a27d6a6f",
   "metadata": {},
   "outputs": [
    {
     "data": {
      "image/png": "[encoded data removed]",
      "text/plain": [
       "<Figure size 561.5x500 with 1 Axes>"
      ]
     },
     "metadata": {},
     "output_type": "display_data"
    }
   ],
   "source": [
    "sns.catplot(x = \"GraduationYear\",hue=\"Gender\",data = df1,kind='count')\n",
    "plt.xticks(rotation=90)\n",
    "plt.title('Years with the most graduation')\n",
    "plt.show()\n"
   ]
  },
  {
   "cell_type": "markdown",
   "id": "05eebfb5",
   "metadata": {},
   "source": [
    "### Salary by Degree"
   ]
  },
  {
   "cell_type": "code",
   "execution_count": 317,
   "id": "a320f9d7",
   "metadata": {},
   "outputs": [
    {
     "data": {
      "text/plain": [
       "Degree\n",
       "B.Tech/B.E.      300000.0\n",
       "M.Sc. (Tech.)    320000.0\n",
       "M.Tech./M.E.     340000.0\n",
       "MCA              220000.0\n",
       "Name: Salary, dtype: float64"
      ]
     },
     "execution_count": 317,
     "metadata": {},
     "output_type": "execute_result"
    }
   ],
   "source": [
    "degree_salary_median = df1.groupby('Degree')['Salary'].median()\n",
    "degree_salary_median"
   ]
  },
  {
   "cell_type": "code",
   "execution_count": 318,
   "id": "ee2bd4e4",
   "metadata": {},
   "outputs": [
    {
     "data": {
      "text/plain": [
       "Degree\n",
       "B.Tech/B.E.      308622.702703\n",
       "M.Sc. (Tech.)    320000.000000\n",
       "M.Tech./M.E.     366132.075472\n",
       "MCA              280802.469136\n",
       "Name: Salary, dtype: float64"
      ]
     },
     "execution_count": 318,
     "metadata": {},
     "output_type": "execute_result"
    }
   ],
   "source": [
    "df1.groupby('Degree')['Salary'].mean()"
   ]
  },
  {
   "cell_type": "markdown",
   "id": "4070c6c8",
   "metadata": {},
   "source": [
    "Masters of Technology annd Engineering earn the highest averagely"
   ]
  },
  {
   "cell_type": "markdown",
   "id": "fdc8f943",
   "metadata": {},
   "source": [
    "### Performance Based on College Tier"
   ]
  },
  {
   "cell_type": "code",
   "execution_count": 329,
   "id": "44213934",
   "metadata": {
    "scrolled": true
   },
   "outputs": [
    {
     "name": "stderr",
     "output_type": "stream",
     "text": [
      "/var/folders/17/f7z1bkt16517dfnzz7sbsb240000gn/T/ipykernel_59740/3374582548.py:1: SettingWithCopyWarning: \n",
      "A value is trying to be set on a copy of a slice from a DataFrame.\n",
      "Try using .loc[row_indexer,col_indexer] = value instead\n",
      "\n",
      "See the caveats in the documentation: https://pandas.pydata.org/pandas-docs/stable/user_guide/indexing.html#returning-a-view-versus-a-copy\n",
      "  df1['SumofGrades']= df1['English']+df1['Logical']+df1['Quant']\n"
     ]
    }
   ],
   "source": [
    "df1['SumofGrades']= df1['English']+df1['Logical']+df1['Quant']"
   ]
  },
  {
   "cell_type": "code",
   "execution_count": 330,
   "id": "7c7073fe",
   "metadata": {},
   "outputs": [
    {
     "data": {
      "text/plain": [
       "0       1625\n",
       "1       2085\n",
       "2       1530\n",
       "3       1845\n",
       "4       1635\n",
       "        ... \n",
       "3993    1174\n",
       "3994    1360\n",
       "3995    1415\n",
       "3996    1180\n",
       "3997    1544\n",
       "Name: SumofGrades, Length: 3998, dtype: int64"
      ]
     },
     "execution_count": 330,
     "metadata": {},
     "output_type": "execute_result"
    }
   ],
   "source": [
    "df1['SumofGrades']"
   ]
  },
  {
   "cell_type": "code",
   "execution_count": 333,
   "id": "ba4b1a40",
   "metadata": {},
   "outputs": [
    {
     "data": {
      "image/png": "[encoded data removed]",
      "text/plain": [
       "<Figure size 640x480 with 1 Axes>"
      ]
     },
     "metadata": {},
     "output_type": "display_data"
    }
   ],
   "source": [
    "sns.boxplot(x='CollegeTier', y='SumofGrades', data=df1)\n",
    "\n",
    "plt.title('Performance Based On College Tier')\n",
    "plt.xlabel('College Tier')\n",
    "plt.ylabel('Sum of Grades')\n",
    "\n",
    "plt.show()\n"
   ]
  },
  {
   "cell_type": "markdown",
   "id": "de3c3ef5",
   "metadata": {},
   "source": [
    "The average performance in Tier 1 colleges are higher than that of Tier 2 colleges. The spread is higher in Tier 2 colleges"
   ]
  },
  {
   "cell_type": "markdown",
   "id": "3ad136e0",
   "metadata": {},
   "source": [
    "### Salary based on College Tier"
   ]
  },
  {
   "cell_type": "code",
   "execution_count": 334,
   "id": "35dbe42d",
   "metadata": {},
   "outputs": [
    {
     "data": {
      "image/png": "[encoded data removed]",
      "text/plain": [
       "<Figure size 640x480 with 1 Axes>"
      ]
     },
     "metadata": {},
     "output_type": "display_data"
    }
   ],
   "source": [
    "sns.boxplot(x='CollegeTier', y='Salary', data=df1)\n",
    "\n",
    "plt.title('Salary Based On College Tier')\n",
    "plt.xlabel('College Tier')\n",
    "plt.ylabel('Salary')\n",
    "\n",
    "plt.show()\n"
   ]
  },
  {
   "cell_type": "markdown",
   "id": "a32a7def",
   "metadata": {},
   "source": [
    "There are more outliers in the salary of students in tier 2 colleges, without the outliers, there's little to no difference in the salary performancce based on college tier"
   ]
  },
  {
   "cell_type": "markdown",
   "id": "3a556e2b",
   "metadata": {},
   "source": [
    "### Salary based on specialization"
   ]
  },
  {
   "cell_type": "code",
   "execution_count": 336,
   "id": "932e5efe",
   "metadata": {},
   "outputs": [],
   "source": [
    "salary_per_specialization=df1.groupby('Specialization')['Salary'].mean()\n",
    "salary_per_specialization.to_frame().reset_index()\n",
    "salary_per_specialization.columns=['Specialization','Average_Salary']\n",
    "sorted_df = salary_per_specialization.sort_values( ascending=False)\n",
    "top10_salaries_specialization=sorted_df[:10]"
   ]
  },
  {
   "cell_type": "code",
   "execution_count": 337,
   "id": "f8e446d9",
   "metadata": {},
   "outputs": [
    {
     "data": {
      "image/png": "[encoded data removed]",
      "text/plain": [
       "<Figure size 1200x800 with 1 Axes>"
      ]
     },
     "metadata": {},
     "output_type": "display_data"
    }
   ],
   "source": [
    "top10_salaries_specialization.plot(x='Specialization', y='Salary', kind='bar', figsize=(12,8))\n",
    "plt.title('Average Salary per Specialization')\n",
    "plt.xlabel('Specialization')\n",
    "plt.ylabel('Average Salary')\n",
    "plt.show()\n"
   ]
  },
  {
   "cell_type": "code",
   "execution_count": 343,
   "id": "60587a3d",
   "metadata": {},
   "outputs": [
    {
     "data": {
      "text/plain": [
       "Specialization\n",
       "polymer technology                        700000.0\n",
       "computer networking                       565000.0\n",
       "information science                       460000.0\n",
       "information & communication technology    387500.0\n",
       "industrial & production engineering       382500.0\n",
       "chemical engineering                      375000.0\n",
       "industrial engineering                    370000.0\n",
       "internal combustion engine                360000.0\n",
       "telecommunication engineering             350000.0\n",
       "computer engineering                      350000.0\n",
       "Name: Salary, dtype: float64"
      ]
     },
     "execution_count": 343,
     "metadata": {},
     "output_type": "execute_result"
    }
   ],
   "source": [
    "df1.groupby('Specialization')['Salary'].median().sort_values(ascending=False)[:10]"
   ]
  },
  {
   "cell_type": "markdown",
   "id": "6650568f",
   "metadata": {},
   "source": [
    "Polymer technology is the highest paying field followed by computer networking"
   ]
  },
  {
   "cell_type": "markdown",
   "id": "846688ad",
   "metadata": {},
   "source": [
    "### Salary based on years of experience"
   ]
  },
  {
   "cell_type": "code",
   "execution_count": 363,
   "id": "c0dc0a37",
   "metadata": {},
   "outputs": [
    {
     "name": "stderr",
     "output_type": "stream",
     "text": [
      "/var/folders/17/f7z1bkt16517dfnzz7sbsb240000gn/T/ipykernel_59740/3042902452.py:1: SettingWithCopyWarning: \n",
      "A value is trying to be set on a copy of a slice from a DataFrame.\n",
      "Try using .loc[row_indexer,col_indexer] = value instead\n",
      "\n",
      "See the caveats in the documentation: https://pandas.pydata.org/pandas-docs/stable/user_guide/indexing.html#returning-a-view-versus-a-copy\n",
      "  df1['Years_of_Experience']=2023-df['GraduationYear']\n"
     ]
    }
   ],
   "source": [
    "df1['Years_of_Experience']=2023-df['GraduationYear']"
   ]
  },
  {
   "cell_type": "code",
   "execution_count": 364,
   "id": "4c59ee8f",
   "metadata": {},
   "outputs": [
    {
     "data": {
      "text/plain": [
       "0       12\n",
       "1       11\n",
       "2        9\n",
       "3       12\n",
       "4       11\n",
       "        ..\n",
       "3993    13\n",
       "3994    10\n",
       "3995    11\n",
       "3996     9\n",
       "3997    11\n",
       "Name: Years_of_Experience, Length: 3998, dtype: int64"
      ]
     },
     "execution_count": 364,
     "metadata": {},
     "output_type": "execute_result"
    }
   ],
   "source": [
    "df1['Years_of_Experience']"
   ]
  },
  {
   "cell_type": "code",
   "execution_count": 366,
   "id": "8bc95906",
   "metadata": {},
   "outputs": [
    {
     "data": {
      "text/plain": [
       "count    3998.000000\n",
       "mean       10.894197\n",
       "std        31.857271\n",
       "min         6.000000\n",
       "25%         9.000000\n",
       "50%        10.000000\n",
       "75%        11.000000\n",
       "max      2023.000000\n",
       "Name: Years_of_Experience, dtype: float64"
      ]
     },
     "execution_count": 366,
     "metadata": {},
     "output_type": "execute_result"
    }
   ],
   "source": [
    "df1['Years_of_Experience'].describe()"
   ]
  },
  {
   "cell_type": "code",
   "execution_count": 362,
   "id": "840582e8",
   "metadata": {},
   "outputs": [
    {
     "data": {
      "text/html": [
       "<div>\n",
       "<style scoped>\n",
       "    .dataframe tbody tr th:only-of-type {\n",
       "        vertical-align: middle;\n",
       "    }\n",
       "\n",
       "    .dataframe tbody tr th {\n",
       "        vertical-align: top;\n",
       "    }\n",
       "\n",
       "    .dataframe thead th {\n",
       "        text-align: right;\n",
       "    }\n",
       "</style>\n",
       "<table border=\"1\" class=\"dataframe\">\n",
       "  <thead>\n",
       "    <tr style=\"text-align: right;\">\n",
       "      <th></th>\n",
       "      <th>ID</th>\n",
       "      <th>Salary</th>\n",
       "      <th>DOJ</th>\n",
       "      <th>DOL</th>\n",
       "      <th>Designation</th>\n",
       "      <th>JobCity</th>\n",
       "      <th>Gender</th>\n",
       "      <th>DOB</th>\n",
       "      <th>Grade10_marks</th>\n",
       "      <th>Grade10_board</th>\n",
       "      <th>Graduation_year</th>\n",
       "      <th>Graduation_marks</th>\n",
       "      <th>Graduation_board</th>\n",
       "      <th>CollegeID</th>\n",
       "      <th>CollegeTier</th>\n",
       "      <th>Degree</th>\n",
       "      <th>Specialization</th>\n",
       "      <th>collegeGPA</th>\n",
       "      <th>CollegeCityID</th>\n",
       "      <th>CollegeCityTier</th>\n",
       "      <th>CollegeState</th>\n",
       "      <th>GraduationYear</th>\n",
       "      <th>English</th>\n",
       "      <th>Logical</th>\n",
       "      <th>Quant</th>\n",
       "      <th>Domain</th>\n",
       "      <th>SumofGrages</th>\n",
       "      <th>SumofGrades</th>\n",
       "      <th>Years_of_Experience</th>\n",
       "    </tr>\n",
       "  </thead>\n",
       "  <tbody>\n",
       "    <tr>\n",
       "      <th>2664</th>\n",
       "      <td>794381</td>\n",
       "      <td>325000</td>\n",
       "      <td>2014-07-01</td>\n",
       "      <td>2015-07-01 00:00:00</td>\n",
       "      <td>system engineer</td>\n",
       "      <td>Chandigarh</td>\n",
       "      <td>m</td>\n",
       "      <td>1991-12-17</td>\n",
       "      <td>89.0</td>\n",
       "      <td>central board of secondary education</td>\n",
       "      <td>2010</td>\n",
       "      <td>85.2</td>\n",
       "      <td>central board of secondary education</td>\n",
       "      <td>8346</td>\n",
       "      <td>2</td>\n",
       "      <td>B.Tech/B.E.</td>\n",
       "      <td>mechanical engineering</td>\n",
       "      <td>68.76</td>\n",
       "      <td>8346</td>\n",
       "      <td>0</td>\n",
       "      <td>Uttar Pradesh</td>\n",
       "      <td>0</td>\n",
       "      <td>695</td>\n",
       "      <td>655</td>\n",
       "      <td>680</td>\n",
       "      <td>0.755375</td>\n",
       "      <td>2030</td>\n",
       "      <td>2030</td>\n",
       "      <td>True</td>\n",
       "    </tr>\n",
       "  </tbody>\n",
       "</table>\n",
       "</div>"
      ],
      "text/plain": [
       "          ID  Salary        DOJ                  DOL      Designation  \\\n",
       "2664  794381  325000 2014-07-01  2015-07-01 00:00:00  system engineer   \n",
       "\n",
       "         JobCity Gender        DOB  Grade10_marks  \\\n",
       "2664  Chandigarh      m 1991-12-17           89.0   \n",
       "\n",
       "                             Grade10_board  Graduation_year  Graduation_marks  \\\n",
       "2664  central board of secondary education             2010              85.2   \n",
       "\n",
       "                          Graduation_board  CollegeID  CollegeTier  \\\n",
       "2664  central board of secondary education       8346            2   \n",
       "\n",
       "           Degree          Specialization  collegeGPA  CollegeCityID  \\\n",
       "2664  B.Tech/B.E.  mechanical engineering       68.76           8346   \n",
       "\n",
       "      CollegeCityTier   CollegeState  GraduationYear  English  Logical  Quant  \\\n",
       "2664                0  Uttar Pradesh               0      695      655    680   \n",
       "\n",
       "        Domain  SumofGrages  SumofGrades  Years_of_Experience  \n",
       "2664  0.755375         2030         2030                 True  "
      ]
     },
     "execution_count": 362,
     "metadata": {},
     "output_type": "execute_result"
    }
   ],
   "source": [
    "df1[df1['GraduationYear']==0]"
   ]
  },
  {
   "cell_type": "code",
   "execution_count": 367,
   "id": "2443e47c",
   "metadata": {},
   "outputs": [],
   "source": [
    "df1= df1.drop(df1[df1['GraduationYear']==0].index)"
   ]
  },
  {
   "cell_type": "code",
   "execution_count": 368,
   "id": "1f1f96e3",
   "metadata": {},
   "outputs": [
    {
     "data": {
      "text/plain": [
       "count    3997.000000\n",
       "mean       10.390793\n",
       "std         1.315533\n",
       "min         6.000000\n",
       "25%         9.000000\n",
       "50%        10.000000\n",
       "75%        11.000000\n",
       "max        16.000000\n",
       "Name: Years_of_Experience, dtype: float64"
      ]
     },
     "execution_count": 368,
     "metadata": {},
     "output_type": "execute_result"
    }
   ],
   "source": [
    "df1['Years_of_Experience'].describe()"
   ]
  },
  {
   "cell_type": "code",
   "execution_count": 370,
   "id": "e825676a",
   "metadata": {},
   "outputs": [
    {
     "data": {
      "image/png": "[encoded data removed]",
      "text/plain": [
       "<Figure size 640x480 with 1 Axes>"
      ]
     },
     "metadata": {},
     "output_type": "display_data"
    }
   ],
   "source": [
    "plt.scatter(df1['Years_of_Experience'],df1['Salary'])\n",
    "plt.xlabel('Years of Experience')\n",
    "plt.ylabel('Salary')\n",
    "plt.show()"
   ]
  },
  {
   "cell_type": "code",
   "execution_count": 371,
   "id": "a0a950b8",
   "metadata": {},
   "outputs": [
    {
     "data": {
      "text/plain": [
       "0.21234738085829513"
      ]
     },
     "execution_count": 371,
     "metadata": {},
     "output_type": "execute_result"
    }
   ],
   "source": [
    "df1['Years_of_Experience'].corr(df1['Salary'])"
   ]
  },
  {
   "cell_type": "markdown",
   "id": "96d57265",
   "metadata": {},
   "source": [
    "There's little correlation between the Years of experience and salary"
   ]
  },
  {
   "cell_type": "markdown",
   "id": "a8faf451",
   "metadata": {},
   "source": [
    "## Research Questions"
   ]
  },
  {
   "cell_type": "markdown",
   "id": "d95c680c",
   "metadata": {},
   "source": [
    "- Times of India article dated Jan 18, 2019 states that “After doing your Computer Science Engineering if you take up jobs as a Programming Analyst, Software Engineer, Hardware Engineer and Associate Engineer you can earn up to 2.5-3 lakhs as a fresh graduate.” Test this claim with the data given to you.\n",
    "- Is there a relationship between gender and specialisation? (i.e. Does the preference of Specialisation depend on the Gender?)"
   ]
  },
  {
   "cell_type": "code",
   "execution_count": null,
   "id": "d09bf599",
   "metadata": {},
   "outputs": [],
   "source": [
    "#to test the first claim, we'll compare the salary of students with the minimum years of experience"
   ]
  },
  {
   "cell_type": "markdown",
   "id": "f44fa133",
   "metadata": {},
   "source": [
    "### Salary For Freshers"
   ]
  },
  {
   "cell_type": "code",
   "execution_count": 373,
   "id": "99d243a0",
   "metadata": {
    "scrolled": true
   },
   "outputs": [
    {
     "data": {
      "text/html": [
       "<div>\n",
       "<style scoped>\n",
       "    .dataframe tbody tr th:only-of-type {\n",
       "        vertical-align: middle;\n",
       "    }\n",
       "\n",
       "    .dataframe tbody tr th {\n",
       "        vertical-align: top;\n",
       "    }\n",
       "\n",
       "    .dataframe thead th {\n",
       "        text-align: right;\n",
       "    }\n",
       "</style>\n",
       "<table border=\"1\" class=\"dataframe\">\n",
       "  <thead>\n",
       "    <tr style=\"text-align: right;\">\n",
       "      <th></th>\n",
       "      <th>ID</th>\n",
       "      <th>Salary</th>\n",
       "      <th>DOJ</th>\n",
       "      <th>DOL</th>\n",
       "      <th>Designation</th>\n",
       "      <th>JobCity</th>\n",
       "      <th>Gender</th>\n",
       "      <th>DOB</th>\n",
       "      <th>Grade10_marks</th>\n",
       "      <th>Grade10_board</th>\n",
       "      <th>Graduation_year</th>\n",
       "      <th>Graduation_marks</th>\n",
       "      <th>Graduation_board</th>\n",
       "      <th>CollegeID</th>\n",
       "      <th>CollegeTier</th>\n",
       "      <th>Degree</th>\n",
       "      <th>Specialization</th>\n",
       "      <th>collegeGPA</th>\n",
       "      <th>CollegeCityID</th>\n",
       "      <th>CollegeCityTier</th>\n",
       "      <th>CollegeState</th>\n",
       "      <th>GraduationYear</th>\n",
       "      <th>English</th>\n",
       "      <th>Logical</th>\n",
       "      <th>Quant</th>\n",
       "      <th>Domain</th>\n",
       "      <th>SumofGrages</th>\n",
       "      <th>SumofGrades</th>\n",
       "      <th>Years_of_Experience</th>\n",
       "    </tr>\n",
       "  </thead>\n",
       "  <tbody>\n",
       "    <tr>\n",
       "      <th>379</th>\n",
       "      <td>561757</td>\n",
       "      <td>120000</td>\n",
       "      <td>2013-11-01</td>\n",
       "      <td>2014-03-01 00:00:00</td>\n",
       "      <td>software developer</td>\n",
       "      <td>New Delhi</td>\n",
       "      <td>m</td>\n",
       "      <td>1992-12-03</td>\n",
       "      <td>64.00</td>\n",
       "      <td>central board of secondary education</td>\n",
       "      <td>2009</td>\n",
       "      <td>57.00</td>\n",
       "      <td>central board of secondary education</td>\n",
       "      <td>7515</td>\n",
       "      <td>2</td>\n",
       "      <td>B.Tech/B.E.</td>\n",
       "      <td>computer engineering</td>\n",
       "      <td>60.34</td>\n",
       "      <td>7515</td>\n",
       "      <td>0</td>\n",
       "      <td>Uttarakhand</td>\n",
       "      <td>2017</td>\n",
       "      <td>430</td>\n",
       "      <td>460</td>\n",
       "      <td>485</td>\n",
       "      <td>0.377551</td>\n",
       "      <td>1375</td>\n",
       "      <td>1375</td>\n",
       "      <td>6</td>\n",
       "    </tr>\n",
       "    <tr>\n",
       "      <th>728</th>\n",
       "      <td>713751</td>\n",
       "      <td>100000</td>\n",
       "      <td>2013-11-01</td>\n",
       "      <td>2014-04-01 00:00:00</td>\n",
       "      <td>software developer</td>\n",
       "      <td>NaN</td>\n",
       "      <td>f</td>\n",
       "      <td>1991-11-12</td>\n",
       "      <td>75.60</td>\n",
       "      <td>state board</td>\n",
       "      <td>2009</td>\n",
       "      <td>81.30</td>\n",
       "      <td>central board of secondary education</td>\n",
       "      <td>75</td>\n",
       "      <td>2</td>\n",
       "      <td>B.Tech/B.E.</td>\n",
       "      <td>computer science &amp; engineering</td>\n",
       "      <td>76.56</td>\n",
       "      <td>75</td>\n",
       "      <td>0</td>\n",
       "      <td>Uttar Pradesh</td>\n",
       "      <td>2017</td>\n",
       "      <td>555</td>\n",
       "      <td>415</td>\n",
       "      <td>515</td>\n",
       "      <td>0.793581</td>\n",
       "      <td>1485</td>\n",
       "      <td>1485</td>\n",
       "      <td>6</td>\n",
       "    </tr>\n",
       "    <tr>\n",
       "      <th>2018</th>\n",
       "      <td>1010140</td>\n",
       "      <td>330000</td>\n",
       "      <td>2014-06-01</td>\n",
       "      <td>2015-01-01 00:00:00</td>\n",
       "      <td>system engineer</td>\n",
       "      <td>Bhubaneshwar</td>\n",
       "      <td>m</td>\n",
       "      <td>1991-06-11</td>\n",
       "      <td>89.76</td>\n",
       "      <td>indian certificate of secondary education</td>\n",
       "      <td>2009</td>\n",
       "      <td>82.00</td>\n",
       "      <td>central board of secondary education</td>\n",
       "      <td>8440</td>\n",
       "      <td>1</td>\n",
       "      <td>B.Tech/B.E.</td>\n",
       "      <td>electronics and instrumentation engineering</td>\n",
       "      <td>72.00</td>\n",
       "      <td>8440</td>\n",
       "      <td>0</td>\n",
       "      <td>Orissa</td>\n",
       "      <td>2017</td>\n",
       "      <td>595</td>\n",
       "      <td>590</td>\n",
       "      <td>665</td>\n",
       "      <td>0.849803</td>\n",
       "      <td>1850</td>\n",
       "      <td>1850</td>\n",
       "      <td>6</td>\n",
       "    </tr>\n",
       "    <tr>\n",
       "      <th>2800</th>\n",
       "      <td>1123174</td>\n",
       "      <td>290000</td>\n",
       "      <td>2014-07-01</td>\n",
       "      <td>present</td>\n",
       "      <td>associate system engineer</td>\n",
       "      <td>Noida</td>\n",
       "      <td>m</td>\n",
       "      <td>1991-08-01</td>\n",
       "      <td>76.00</td>\n",
       "      <td>state board</td>\n",
       "      <td>2009</td>\n",
       "      <td>71.00</td>\n",
       "      <td>state board</td>\n",
       "      <td>8287</td>\n",
       "      <td>2</td>\n",
       "      <td>B.Tech/B.E.</td>\n",
       "      <td>computer science &amp; engineering</td>\n",
       "      <td>68.00</td>\n",
       "      <td>8287</td>\n",
       "      <td>1</td>\n",
       "      <td>West Bengal</td>\n",
       "      <td>2017</td>\n",
       "      <td>510</td>\n",
       "      <td>370</td>\n",
       "      <td>430</td>\n",
       "      <td>0.356536</td>\n",
       "      <td>1310</td>\n",
       "      <td>1310</td>\n",
       "      <td>6</td>\n",
       "    </tr>\n",
       "    <tr>\n",
       "      <th>3036</th>\n",
       "      <td>663821</td>\n",
       "      <td>180000</td>\n",
       "      <td>2013-12-01</td>\n",
       "      <td>2014-06-01 00:00:00</td>\n",
       "      <td>site engineer</td>\n",
       "      <td>New Delhi</td>\n",
       "      <td>m</td>\n",
       "      <td>1991-05-24</td>\n",
       "      <td>68.60</td>\n",
       "      <td>central board of secondary education</td>\n",
       "      <td>2008</td>\n",
       "      <td>59.20</td>\n",
       "      <td>central board of secondary education</td>\n",
       "      <td>4450</td>\n",
       "      <td>2</td>\n",
       "      <td>B.Tech/B.E.</td>\n",
       "      <td>electronics and electrical engineering</td>\n",
       "      <td>67.90</td>\n",
       "      <td>4450</td>\n",
       "      <td>0</td>\n",
       "      <td>Uttar Pradesh</td>\n",
       "      <td>2017</td>\n",
       "      <td>275</td>\n",
       "      <td>350</td>\n",
       "      <td>400</td>\n",
       "      <td>0.163631</td>\n",
       "      <td>1025</td>\n",
       "      <td>1025</td>\n",
       "      <td>6</td>\n",
       "    </tr>\n",
       "    <tr>\n",
       "      <th>3229</th>\n",
       "      <td>1242790</td>\n",
       "      <td>100000</td>\n",
       "      <td>2015-01-01</td>\n",
       "      <td>2015-04-01 00:00:00</td>\n",
       "      <td>software development engineer</td>\n",
       "      <td>Faridabad</td>\n",
       "      <td>m</td>\n",
       "      <td>1993-08-15</td>\n",
       "      <td>70.00</td>\n",
       "      <td>central board of secondary education</td>\n",
       "      <td>2011</td>\n",
       "      <td>58.00</td>\n",
       "      <td>central board of secondary education</td>\n",
       "      <td>6907</td>\n",
       "      <td>2</td>\n",
       "      <td>B.Tech/B.E.</td>\n",
       "      <td>information technology</td>\n",
       "      <td>70.00</td>\n",
       "      <td>6907</td>\n",
       "      <td>0</td>\n",
       "      <td>Haryana</td>\n",
       "      <td>2017</td>\n",
       "      <td>440</td>\n",
       "      <td>435</td>\n",
       "      <td>380</td>\n",
       "      <td>0.237803</td>\n",
       "      <td>1255</td>\n",
       "      <td>1255</td>\n",
       "      <td>6</td>\n",
       "    </tr>\n",
       "    <tr>\n",
       "      <th>3370</th>\n",
       "      <td>820353</td>\n",
       "      <td>300000</td>\n",
       "      <td>2014-06-01</td>\n",
       "      <td>2015-01-01 00:00:00</td>\n",
       "      <td>project manager</td>\n",
       "      <td>Panchkula</td>\n",
       "      <td>m</td>\n",
       "      <td>1991-03-03</td>\n",
       "      <td>90.00</td>\n",
       "      <td>central board of secondary education</td>\n",
       "      <td>2009</td>\n",
       "      <td>81.20</td>\n",
       "      <td>central board of secondary education</td>\n",
       "      <td>11127</td>\n",
       "      <td>1</td>\n",
       "      <td>B.Tech/B.E.</td>\n",
       "      <td>electronics and electrical engineering</td>\n",
       "      <td>70.30</td>\n",
       "      <td>11127</td>\n",
       "      <td>0</td>\n",
       "      <td>Punjab</td>\n",
       "      <td>2017</td>\n",
       "      <td>730</td>\n",
       "      <td>585</td>\n",
       "      <td>720</td>\n",
       "      <td>0.557390</td>\n",
       "      <td>2035</td>\n",
       "      <td>2035</td>\n",
       "      <td>6</td>\n",
       "    </tr>\n",
       "    <tr>\n",
       "      <th>3735</th>\n",
       "      <td>920335</td>\n",
       "      <td>145000</td>\n",
       "      <td>2014-08-01</td>\n",
       "      <td>present</td>\n",
       "      <td>analyst</td>\n",
       "      <td>Noida</td>\n",
       "      <td>m</td>\n",
       "      <td>1990-07-02</td>\n",
       "      <td>64.00</td>\n",
       "      <td>state board</td>\n",
       "      <td>2009</td>\n",
       "      <td>60.01</td>\n",
       "      <td>state board</td>\n",
       "      <td>55</td>\n",
       "      <td>2</td>\n",
       "      <td>B.Tech/B.E.</td>\n",
       "      <td>electronics and communication engineering</td>\n",
       "      <td>60.00</td>\n",
       "      <td>55</td>\n",
       "      <td>0</td>\n",
       "      <td>Uttar Pradesh</td>\n",
       "      <td>2017</td>\n",
       "      <td>500</td>\n",
       "      <td>425</td>\n",
       "      <td>250</td>\n",
       "      <td>0.053160</td>\n",
       "      <td>1175</td>\n",
       "      <td>1175</td>\n",
       "      <td>6</td>\n",
       "    </tr>\n",
       "  </tbody>\n",
       "</table>\n",
       "</div>"
      ],
      "text/plain": [
       "           ID  Salary        DOJ                  DOL  \\\n",
       "379    561757  120000 2013-11-01  2014-03-01 00:00:00   \n",
       "728    713751  100000 2013-11-01  2014-04-01 00:00:00   \n",
       "2018  1010140  330000 2014-06-01  2015-01-01 00:00:00   \n",
       "2800  1123174  290000 2014-07-01              present   \n",
       "3036   663821  180000 2013-12-01  2014-06-01 00:00:00   \n",
       "3229  1242790  100000 2015-01-01  2015-04-01 00:00:00   \n",
       "3370   820353  300000 2014-06-01  2015-01-01 00:00:00   \n",
       "3735   920335  145000 2014-08-01              present   \n",
       "\n",
       "                        Designation       JobCity Gender        DOB  \\\n",
       "379              software developer     New Delhi      m 1992-12-03   \n",
       "728              software developer           NaN      f 1991-11-12   \n",
       "2018                system engineer  Bhubaneshwar      m 1991-06-11   \n",
       "2800      associate system engineer         Noida      m 1991-08-01   \n",
       "3036                  site engineer     New Delhi      m 1991-05-24   \n",
       "3229  software development engineer     Faridabad      m 1993-08-15   \n",
       "3370                project manager     Panchkula      m 1991-03-03   \n",
       "3735                        analyst         Noida      m 1990-07-02   \n",
       "\n",
       "      Grade10_marks                              Grade10_board  \\\n",
       "379           64.00       central board of secondary education   \n",
       "728           75.60                                state board   \n",
       "2018          89.76  indian certificate of secondary education   \n",
       "2800          76.00                                state board   \n",
       "3036          68.60       central board of secondary education   \n",
       "3229          70.00       central board of secondary education   \n",
       "3370          90.00       central board of secondary education   \n",
       "3735          64.00                                state board   \n",
       "\n",
       "      Graduation_year  Graduation_marks                      Graduation_board  \\\n",
       "379              2009             57.00  central board of secondary education   \n",
       "728              2009             81.30  central board of secondary education   \n",
       "2018             2009             82.00  central board of secondary education   \n",
       "2800             2009             71.00                           state board   \n",
       "3036             2008             59.20  central board of secondary education   \n",
       "3229             2011             58.00  central board of secondary education   \n",
       "3370             2009             81.20  central board of secondary education   \n",
       "3735             2009             60.01                           state board   \n",
       "\n",
       "      CollegeID  CollegeTier       Degree  \\\n",
       "379        7515            2  B.Tech/B.E.   \n",
       "728          75            2  B.Tech/B.E.   \n",
       "2018       8440            1  B.Tech/B.E.   \n",
       "2800       8287            2  B.Tech/B.E.   \n",
       "3036       4450            2  B.Tech/B.E.   \n",
       "3229       6907            2  B.Tech/B.E.   \n",
       "3370      11127            1  B.Tech/B.E.   \n",
       "3735         55            2  B.Tech/B.E.   \n",
       "\n",
       "                                   Specialization  collegeGPA  CollegeCityID  \\\n",
       "379                          computer engineering       60.34           7515   \n",
       "728                computer science & engineering       76.56             75   \n",
       "2018  electronics and instrumentation engineering       72.00           8440   \n",
       "2800               computer science & engineering       68.00           8287   \n",
       "3036       electronics and electrical engineering       67.90           4450   \n",
       "3229                       information technology       70.00           6907   \n",
       "3370       electronics and electrical engineering       70.30          11127   \n",
       "3735    electronics and communication engineering       60.00             55   \n",
       "\n",
       "      CollegeCityTier   CollegeState  GraduationYear  English  Logical  Quant  \\\n",
       "379                 0    Uttarakhand            2017      430      460    485   \n",
       "728                 0  Uttar Pradesh            2017      555      415    515   \n",
       "2018                0         Orissa            2017      595      590    665   \n",
       "2800                1    West Bengal            2017      510      370    430   \n",
       "3036                0  Uttar Pradesh            2017      275      350    400   \n",
       "3229                0        Haryana            2017      440      435    380   \n",
       "3370                0         Punjab            2017      730      585    720   \n",
       "3735                0  Uttar Pradesh            2017      500      425    250   \n",
       "\n",
       "        Domain  SumofGrages  SumofGrades  Years_of_Experience  \n",
       "379   0.377551         1375         1375                    6  \n",
       "728   0.793581         1485         1485                    6  \n",
       "2018  0.849803         1850         1850                    6  \n",
       "2800  0.356536         1310         1310                    6  \n",
       "3036  0.163631         1025         1025                    6  \n",
       "3229  0.237803         1255         1255                    6  \n",
       "3370  0.557390         2035         2035                    6  \n",
       "3735  0.053160         1175         1175                    6  "
      ]
     },
     "execution_count": 373,
     "metadata": {},
     "output_type": "execute_result"
    }
   ],
   "source": [
    "df1[df1['Years_of_Experience']==6]"
   ]
  },
  {
   "cell_type": "code",
   "execution_count": 374,
   "id": "496538e6",
   "metadata": {},
   "outputs": [],
   "source": [
    "freshers_df=df1[df1['Years_of_Experience']==6]"
   ]
  },
  {
   "cell_type": "code",
   "execution_count": 376,
   "id": "8066e067",
   "metadata": {},
   "outputs": [
    {
     "name": "stdout",
     "output_type": "stream",
     "text": [
      "379     120000\n",
      "728     100000\n",
      "2018    330000\n",
      "2800    290000\n",
      "3036    180000\n",
      "3229    100000\n",
      "3370    300000\n",
      "3735    145000\n",
      "Name: Salary, dtype: int64\n"
     ]
    }
   ],
   "source": [
    "sample=freshers_df['Salary']\n",
    "print(sample)"
   ]
  },
  {
   "cell_type": "code",
   "execution_count": 385,
   "id": "c0a0d4d8",
   "metadata": {},
   "outputs": [
    {
     "name": "stdout",
     "output_type": "stream",
     "text": [
      "Reject the null hypothesis. The population mean salary for people with 6 years of experience is not between 250000 and 300000 lakh with 95.0% confidence.\n"
     ]
    }
   ],
   "source": [
    "import scipy.stats as stats\n",
    "\n",
    "sample = [120000, 100000, 330000, 290000, 180000, 100000, 300000, 145000]\n",
    "\n",
    "null_hypothesis = [250000, 300000]  # Population mean is between 2.5 to 3 lakh\n",
    "\n",
    "# Calculating sample mean and standard deviation\n",
    "sample_mean = np.mean(sample)\n",
    "sample_std = np.std(sample, ddof=1)\n",
    "\n",
    "# Calculating the standard error of the mean\n",
    "standard_error = sample_std / np.sqrt(len(sample))\n",
    "\n",
    "# Calculating the confidence interval\n",
    "confidence_level = 0.95\n",
    "t_critical = stats.t.ppf((1 + confidence_level) / 2, df=len(sample)-1)\n",
    "lower_ci = sample_mean - t_critical * standard_error\n",
    "upper_ci = sample_mean + t_critical * standard_error\n",
    "\n",
    "# Comparing the confidence interval to the null hypothesis\n",
    "if null_hypothesis[0] <= lower_ci <= upper_ci <= null_hypothesis[1]:\n",
    "    print(f'Fail to reject the null hypothesis. The population mean salary for people with 6 years of experience is '\n",
    "          f'between {null_hypothesis[0]} and {null_hypothesis[1]} lakh with {confidence_level*100}% confidence.')\n",
    "else:\n",
    "    print(f'Reject the null hypothesis. The population mean salary for people with 6 years of experience is not '\n",
    "          f'between {null_hypothesis[0]} and {null_hypothesis[1]} lakh with {confidence_level*100}% confidence.')\n"
   ]
  },
  {
   "cell_type": "markdown",
   "id": "2097d66f",
   "metadata": {},
   "source": [
    "### Relationship between Gender and Specialization"
   ]
  },
  {
   "cell_type": "code",
   "execution_count": 387,
   "id": "fe45d0ae",
   "metadata": {},
   "outputs": [
    {
     "name": "stdout",
     "output_type": "stream",
     "text": [
      "There is evidence of a relationship between gender and specialization.\n"
     ]
    }
   ],
   "source": [
    "# Create a contingency table\n",
    "contingency_table = pd.crosstab(df1['Gender'], df1['Specialization'])\n",
    "\n",
    "chi2_stat, p_val, dof, ex = stats.chi2_contingency(contingency_table)\n",
    "\n",
    "alpha = 0.05\n",
    "\n",
    "if p_val < alpha:\n",
    "    print(\"There is evidence of a relationship between gender and specialization.\")\n",
    "else:\n",
    "    print(\"There is no evidence of a relationship between gender and specialization.\")"
   ]
  },
  {
   "cell_type": "markdown",
   "id": "f10b17bb",
   "metadata": {},
   "source": [
    "My Hypotheses; \n",
    "- The performance of students in colleges is not better than their performance in graduation year\n",
    "\n",
    "- People with a masters degree earn more salary"
   ]
  },
  {
   "cell_type": "markdown",
   "id": "390e80c5",
   "metadata": {},
   "source": [
    "### Performance in College and in Graduating year"
   ]
  },
  {
   "cell_type": "code",
   "execution_count": 392,
   "id": "4d97b3c9",
   "metadata": {},
   "outputs": [],
   "source": [
    "sampledf=df1.sample(10)"
   ]
  },
  {
   "cell_type": "code",
   "execution_count": 398,
   "id": "41c509b6",
   "metadata": {},
   "outputs": [
    {
     "data": {
      "text/html": [
       "<div>\n",
       "<style scoped>\n",
       "    .dataframe tbody tr th:only-of-type {\n",
       "        vertical-align: middle;\n",
       "    }\n",
       "\n",
       "    .dataframe tbody tr th {\n",
       "        vertical-align: top;\n",
       "    }\n",
       "\n",
       "    .dataframe thead th {\n",
       "        text-align: right;\n",
       "    }\n",
       "</style>\n",
       "<table border=\"1\" class=\"dataframe\">\n",
       "  <thead>\n",
       "    <tr style=\"text-align: right;\">\n",
       "      <th></th>\n",
       "      <th>Graduation_marks</th>\n",
       "      <th>collegeGPA</th>\n",
       "    </tr>\n",
       "  </thead>\n",
       "  <tbody>\n",
       "    <tr>\n",
       "      <th>1737</th>\n",
       "      <td>63.40</td>\n",
       "      <td>76.40</td>\n",
       "    </tr>\n",
       "    <tr>\n",
       "      <th>3373</th>\n",
       "      <td>69.89</td>\n",
       "      <td>66.50</td>\n",
       "    </tr>\n",
       "    <tr>\n",
       "      <th>757</th>\n",
       "      <td>46.00</td>\n",
       "      <td>64.56</td>\n",
       "    </tr>\n",
       "    <tr>\n",
       "      <th>3139</th>\n",
       "      <td>77.33</td>\n",
       "      <td>75.67</td>\n",
       "    </tr>\n",
       "    <tr>\n",
       "      <th>3535</th>\n",
       "      <td>91.40</td>\n",
       "      <td>70.50</td>\n",
       "    </tr>\n",
       "    <tr>\n",
       "      <th>148</th>\n",
       "      <td>71.20</td>\n",
       "      <td>64.46</td>\n",
       "    </tr>\n",
       "    <tr>\n",
       "      <th>3747</th>\n",
       "      <td>68.17</td>\n",
       "      <td>67.89</td>\n",
       "    </tr>\n",
       "    <tr>\n",
       "      <th>2570</th>\n",
       "      <td>65.40</td>\n",
       "      <td>64.90</td>\n",
       "    </tr>\n",
       "    <tr>\n",
       "      <th>2885</th>\n",
       "      <td>72.48</td>\n",
       "      <td>59.70</td>\n",
       "    </tr>\n",
       "    <tr>\n",
       "      <th>3979</th>\n",
       "      <td>65.66</td>\n",
       "      <td>77.50</td>\n",
       "    </tr>\n",
       "  </tbody>\n",
       "</table>\n",
       "</div>"
      ],
      "text/plain": [
       "      Graduation_marks  collegeGPA\n",
       "1737             63.40       76.40\n",
       "3373             69.89       66.50\n",
       "757              46.00       64.56\n",
       "3139             77.33       75.67\n",
       "3535             91.40       70.50\n",
       "148              71.20       64.46\n",
       "3747             68.17       67.89\n",
       "2570             65.40       64.90\n",
       "2885             72.48       59.70\n",
       "3979             65.66       77.50"
      ]
     },
     "execution_count": 398,
     "metadata": {},
     "output_type": "execute_result"
    }
   ],
   "source": [
    "sampledf[['Graduation_marks','collegeGPA']]"
   ]
  },
  {
   "cell_type": "code",
   "execution_count": 399,
   "id": "234e96d3",
   "metadata": {},
   "outputs": [],
   "source": [
    "graduation_marks_sample=sampledf['Graduation_marks']\n",
    "collegeGPA_sample=sampledf['collegeGPA']"
   ]
  },
  {
   "cell_type": "code",
   "execution_count": 401,
   "id": "6a8a2cfd",
   "metadata": {},
   "outputs": [
    {
     "name": "stdout",
     "output_type": "stream",
     "text": [
      "Fail to reject the null hypothesis. The performance of students in colleges is not better than their performance in graduation year.\n"
     ]
    }
   ],
   "source": [
    "from scipy.stats import ttest_rel\n",
    "\n",
    "null_hypothesis = 'The performance of students in colleges is not better than their performance in graduation year'\n",
    "alternative_hypothesis = 'The performance of students in colleges is better than their performance in graduation year'\n",
    "\n",
    "significance_level = 0.05\n",
    "\n",
    "t_statistic, p_value = ttest_rel(collegeGPA_sample, graduation_marks_sample)\n",
    "\n",
    "if p_value <= significance_level:\n",
    "    print(f'Reject the null hypothesis in favor of the alternative hypothesis. '\n",
    "          f'{alternative_hypothesis}.')\n",
    "else:\n",
    "    print(f'Fail to reject the null hypothesis. {null_hypothesis}.')"
   ]
  },
  {
   "cell_type": "markdown",
   "id": "9eecac96",
   "metadata": {},
   "source": [
    "### Relationship Between Degree and Salary"
   ]
  },
  {
   "cell_type": "code",
   "execution_count": 416,
   "id": "a8f7d4dc",
   "metadata": {},
   "outputs": [],
   "source": [
    "no_masters=df1[df1['Degree']=='B.Tech/B.E.'].sample(20)['Salary']"
   ]
  },
  {
   "cell_type": "code",
   "execution_count": 417,
   "id": "4100b0ca",
   "metadata": {},
   "outputs": [],
   "source": [
    "masters=df1[df1['Degree']=='M.Tech./M.E.'].sample(20)['Salary']"
   ]
  },
  {
   "cell_type": "code",
   "execution_count": 419,
   "id": "b8200f95",
   "metadata": {},
   "outputs": [
    {
     "name": "stdout",
     "output_type": "stream",
     "text": [
      "Fail to reject the null hypothesis. People with masters degree earn more salary than people without masters degree\n"
     ]
    }
   ],
   "source": [
    "from scipy.stats import ttest_ind\n",
    "\n",
    "\n",
    "alternative_hypothesis = \"People with masters degree earn the same salary as people without masters degree\"\n",
    "null_hypothesis = \"People with masters degree earn more salary than people without masters degree\"\n",
    "\n",
    "significance_level = 0.05\n",
    "\n",
    "t_statistic, p_value = ttest_ind(masters, no_masters)\n",
    "\n",
    "if p_value <= significance_level:\n",
    "    print(f\"Reject the null hypothesis in favor of the alternative hypothesis. {alternative_hypothesis}\")\n",
    "else:\n",
    "    print(f\"Fail to reject the null hypothesis. {null_hypothesis}\")\n"
   ]
  },
  {
   "cell_type": "markdown",
   "id": "7beb87ce",
   "metadata": {},
   "source": [
    "## Feature Transformation"
   ]
  },
  {
   "cell_type": "code",
   "execution_count": 420,
   "id": "415643c7",
   "metadata": {},
   "outputs": [
    {
     "data": {
      "text/html": [
       "<div>\n",
       "<style scoped>\n",
       "    .dataframe tbody tr th:only-of-type {\n",
       "        vertical-align: middle;\n",
       "    }\n",
       "\n",
       "    .dataframe tbody tr th {\n",
       "        vertical-align: top;\n",
       "    }\n",
       "\n",
       "    .dataframe thead th {\n",
       "        text-align: right;\n",
       "    }\n",
       "</style>\n",
       "<table border=\"1\" class=\"dataframe\">\n",
       "  <thead>\n",
       "    <tr style=\"text-align: right;\">\n",
       "      <th></th>\n",
       "      <th>ID</th>\n",
       "      <th>Salary</th>\n",
       "      <th>DOJ</th>\n",
       "      <th>DOL</th>\n",
       "      <th>Designation</th>\n",
       "      <th>JobCity</th>\n",
       "      <th>Gender</th>\n",
       "      <th>DOB</th>\n",
       "      <th>Grade10_marks</th>\n",
       "      <th>Grade10_board</th>\n",
       "      <th>Graduation_year</th>\n",
       "      <th>Graduation_marks</th>\n",
       "      <th>Graduation_board</th>\n",
       "      <th>CollegeID</th>\n",
       "      <th>CollegeTier</th>\n",
       "      <th>Degree</th>\n",
       "      <th>Specialization</th>\n",
       "      <th>collegeGPA</th>\n",
       "      <th>CollegeCityID</th>\n",
       "      <th>CollegeCityTier</th>\n",
       "      <th>CollegeState</th>\n",
       "      <th>GraduationYear</th>\n",
       "      <th>English</th>\n",
       "      <th>Logical</th>\n",
       "      <th>Quant</th>\n",
       "      <th>Domain</th>\n",
       "      <th>SumofGrages</th>\n",
       "      <th>SumofGrades</th>\n",
       "      <th>Years_of_Experience</th>\n",
       "    </tr>\n",
       "  </thead>\n",
       "  <tbody>\n",
       "    <tr>\n",
       "      <th>0</th>\n",
       "      <td>203097</td>\n",
       "      <td>420000</td>\n",
       "      <td>2012-06-01</td>\n",
       "      <td>present</td>\n",
       "      <td>senior quality engineer</td>\n",
       "      <td>Bangalore</td>\n",
       "      <td>f</td>\n",
       "      <td>1990-02-19</td>\n",
       "      <td>84.3</td>\n",
       "      <td>board of secondary education, andhra pradesh</td>\n",
       "      <td>2007</td>\n",
       "      <td>95.8</td>\n",
       "      <td>board of intermediate education,ap</td>\n",
       "      <td>1141</td>\n",
       "      <td>2</td>\n",
       "      <td>B.Tech/B.E.</td>\n",
       "      <td>computer engineering</td>\n",
       "      <td>78.00</td>\n",
       "      <td>1141</td>\n",
       "      <td>0</td>\n",
       "      <td>Andhra Pradesh</td>\n",
       "      <td>2011</td>\n",
       "      <td>515</td>\n",
       "      <td>585</td>\n",
       "      <td>525</td>\n",
       "      <td>0.635979</td>\n",
       "      <td>1625</td>\n",
       "      <td>1625</td>\n",
       "      <td>12</td>\n",
       "    </tr>\n",
       "    <tr>\n",
       "      <th>1</th>\n",
       "      <td>579905</td>\n",
       "      <td>500000</td>\n",
       "      <td>2013-09-01</td>\n",
       "      <td>present</td>\n",
       "      <td>assistant manager</td>\n",
       "      <td>Indore</td>\n",
       "      <td>m</td>\n",
       "      <td>1989-10-04</td>\n",
       "      <td>85.4</td>\n",
       "      <td>central board of secondary education</td>\n",
       "      <td>2007</td>\n",
       "      <td>85.0</td>\n",
       "      <td>central board of secondary education</td>\n",
       "      <td>5807</td>\n",
       "      <td>2</td>\n",
       "      <td>B.Tech/B.E.</td>\n",
       "      <td>electronics and communication engineering</td>\n",
       "      <td>70.06</td>\n",
       "      <td>5807</td>\n",
       "      <td>0</td>\n",
       "      <td>Madhya Pradesh</td>\n",
       "      <td>2012</td>\n",
       "      <td>695</td>\n",
       "      <td>610</td>\n",
       "      <td>780</td>\n",
       "      <td>0.960603</td>\n",
       "      <td>2085</td>\n",
       "      <td>2085</td>\n",
       "      <td>11</td>\n",
       "    </tr>\n",
       "    <tr>\n",
       "      <th>2</th>\n",
       "      <td>810601</td>\n",
       "      <td>325000</td>\n",
       "      <td>2014-06-01</td>\n",
       "      <td>present</td>\n",
       "      <td>system engineer</td>\n",
       "      <td>Chennai</td>\n",
       "      <td>f</td>\n",
       "      <td>1992-08-03</td>\n",
       "      <td>85.0</td>\n",
       "      <td>central board of secondary education</td>\n",
       "      <td>2010</td>\n",
       "      <td>68.2</td>\n",
       "      <td>central board of secondary education</td>\n",
       "      <td>64</td>\n",
       "      <td>2</td>\n",
       "      <td>B.Tech/B.E.</td>\n",
       "      <td>information technology</td>\n",
       "      <td>70.00</td>\n",
       "      <td>64</td>\n",
       "      <td>0</td>\n",
       "      <td>Uttar Pradesh</td>\n",
       "      <td>2014</td>\n",
       "      <td>615</td>\n",
       "      <td>545</td>\n",
       "      <td>370</td>\n",
       "      <td>0.450877</td>\n",
       "      <td>1530</td>\n",
       "      <td>1530</td>\n",
       "      <td>9</td>\n",
       "    </tr>\n",
       "    <tr>\n",
       "      <th>3</th>\n",
       "      <td>267447</td>\n",
       "      <td>1100000</td>\n",
       "      <td>2011-07-01</td>\n",
       "      <td>present</td>\n",
       "      <td>software developer</td>\n",
       "      <td>Gurgaon</td>\n",
       "      <td>m</td>\n",
       "      <td>1989-12-05</td>\n",
       "      <td>85.6</td>\n",
       "      <td>central board of secondary education</td>\n",
       "      <td>2007</td>\n",
       "      <td>83.6</td>\n",
       "      <td>central board of secondary education</td>\n",
       "      <td>6920</td>\n",
       "      <td>1</td>\n",
       "      <td>B.Tech/B.E.</td>\n",
       "      <td>computer engineering</td>\n",
       "      <td>74.64</td>\n",
       "      <td>6920</td>\n",
       "      <td>1</td>\n",
       "      <td>Delhi</td>\n",
       "      <td>2011</td>\n",
       "      <td>635</td>\n",
       "      <td>585</td>\n",
       "      <td>625</td>\n",
       "      <td>0.974396</td>\n",
       "      <td>1845</td>\n",
       "      <td>1845</td>\n",
       "      <td>12</td>\n",
       "    </tr>\n",
       "    <tr>\n",
       "      <th>4</th>\n",
       "      <td>343523</td>\n",
       "      <td>200000</td>\n",
       "      <td>2014-03-01</td>\n",
       "      <td>2015-03-01 00:00:00</td>\n",
       "      <td>get</td>\n",
       "      <td>Manesar</td>\n",
       "      <td>m</td>\n",
       "      <td>1991-02-27</td>\n",
       "      <td>78.0</td>\n",
       "      <td>central board of secondary education</td>\n",
       "      <td>2008</td>\n",
       "      <td>76.8</td>\n",
       "      <td>central board of secondary education</td>\n",
       "      <td>11368</td>\n",
       "      <td>2</td>\n",
       "      <td>B.Tech/B.E.</td>\n",
       "      <td>electronics and communication engineering</td>\n",
       "      <td>73.90</td>\n",
       "      <td>11368</td>\n",
       "      <td>0</td>\n",
       "      <td>Uttar Pradesh</td>\n",
       "      <td>2012</td>\n",
       "      <td>545</td>\n",
       "      <td>625</td>\n",
       "      <td>465</td>\n",
       "      <td>0.124502</td>\n",
       "      <td>1635</td>\n",
       "      <td>1635</td>\n",
       "      <td>11</td>\n",
       "    </tr>\n",
       "  </tbody>\n",
       "</table>\n",
       "</div>"
      ],
      "text/plain": [
       "       ID   Salary        DOJ                  DOL              Designation  \\\n",
       "0  203097   420000 2012-06-01              present  senior quality engineer   \n",
       "1  579905   500000 2013-09-01              present        assistant manager   \n",
       "2  810601   325000 2014-06-01              present          system engineer   \n",
       "3  267447  1100000 2011-07-01              present       software developer   \n",
       "4  343523   200000 2014-03-01  2015-03-01 00:00:00                      get   \n",
       "\n",
       "     JobCity Gender        DOB  Grade10_marks  \\\n",
       "0  Bangalore      f 1990-02-19           84.3   \n",
       "1     Indore      m 1989-10-04           85.4   \n",
       "2    Chennai      f 1992-08-03           85.0   \n",
       "3    Gurgaon      m 1989-12-05           85.6   \n",
       "4    Manesar      m 1991-02-27           78.0   \n",
       "\n",
       "                                  Grade10_board  Graduation_year  \\\n",
       "0  board of secondary education, andhra pradesh             2007   \n",
       "1          central board of secondary education             2007   \n",
       "2          central board of secondary education             2010   \n",
       "3          central board of secondary education             2007   \n",
       "4          central board of secondary education             2008   \n",
       "\n",
       "   Graduation_marks                      Graduation_board  CollegeID  \\\n",
       "0              95.8    board of intermediate education,ap       1141   \n",
       "1              85.0  central board of secondary education       5807   \n",
       "2              68.2  central board of secondary education         64   \n",
       "3              83.6  central board of secondary education       6920   \n",
       "4              76.8  central board of secondary education      11368   \n",
       "\n",
       "   CollegeTier       Degree                             Specialization  \\\n",
       "0            2  B.Tech/B.E.                       computer engineering   \n",
       "1            2  B.Tech/B.E.  electronics and communication engineering   \n",
       "2            2  B.Tech/B.E.                     information technology   \n",
       "3            1  B.Tech/B.E.                       computer engineering   \n",
       "4            2  B.Tech/B.E.  electronics and communication engineering   \n",
       "\n",
       "   collegeGPA  CollegeCityID  CollegeCityTier    CollegeState  GraduationYear  \\\n",
       "0       78.00           1141                0  Andhra Pradesh            2011   \n",
       "1       70.06           5807                0  Madhya Pradesh            2012   \n",
       "2       70.00             64                0   Uttar Pradesh            2014   \n",
       "3       74.64           6920                1           Delhi            2011   \n",
       "4       73.90          11368                0   Uttar Pradesh            2012   \n",
       "\n",
       "   English  Logical  Quant    Domain  SumofGrages  SumofGrades  \\\n",
       "0      515      585    525  0.635979         1625         1625   \n",
       "1      695      610    780  0.960603         2085         2085   \n",
       "2      615      545    370  0.450877         1530         1530   \n",
       "3      635      585    625  0.974396         1845         1845   \n",
       "4      545      625    465  0.124502         1635         1635   \n",
       "\n",
       "   Years_of_Experience  \n",
       "0                   12  \n",
       "1                   11  \n",
       "2                    9  \n",
       "3                   12  \n",
       "4                   11  "
      ]
     },
     "execution_count": 420,
     "metadata": {},
     "output_type": "execute_result"
    }
   ],
   "source": [
    "df1.head()"
   ]
  },
  {
   "cell_type": "markdown",
   "id": "52e0a893",
   "metadata": {},
   "source": [
    "#### Transformation on Gender,Degree,Salary,Graduation Marks,College GPA "
   ]
  },
  {
   "cell_type": "code",
   "execution_count": 423,
   "id": "30f7d643",
   "metadata": {},
   "outputs": [
    {
     "name": "stdout",
     "output_type": "stream",
     "text": [
      "[[0.09709962]\n",
      " [0.11727617]\n",
      " [0.07313997]\n",
      " [0.26860025]\n",
      " [0.04161412]\n",
      " [0.0668348 ]\n",
      " [0.0668348 ]\n",
      " [0.09205549]\n",
      " [0.14249685]\n",
      " [0.04918033]]\n"
     ]
    }
   ],
   "source": [
    "# Column standardization on Salary using MinMax Scaler\n",
    "from sklearn.preprocessing import MinMaxScaler\n",
    "scaler = MinMaxScaler()\n",
    "\n",
    "scaled_salary = scaler.fit_transform(df1['Salary'].values.reshape(-1,1))\n",
    "\n",
    "print(scaled_salary[:10])"
   ]
  },
  {
   "cell_type": "code",
   "execution_count": 424,
   "id": "94dfe397",
   "metadata": {},
   "outputs": [
    {
     "name": "stdout",
     "output_type": "stream",
     "text": [
      "[[0.95059625]\n",
      " [0.76660988]\n",
      " [0.48040886]\n",
      " [0.7427598 ]\n",
      " [0.62691652]\n",
      " [0.80068143]\n",
      " [0.46848382]\n",
      " [0.86882453]\n",
      " [0.87223169]\n",
      " [0.54855196]]\n"
     ]
    }
   ],
   "source": [
    "#standardization for graduation grades\n",
    "scaled_graduation_marks = scaler.fit_transform(df1['Graduation_marks'].values.reshape(-1,1))\n",
    "\n",
    "print(scaled_graduation_marks[:10])"
   ]
  },
  {
   "cell_type": "code",
   "execution_count": 425,
   "id": "bae9566b",
   "metadata": {},
   "outputs": [
    {
     "name": "stdout",
     "output_type": "stream",
     "text": [
      "[[0.76540436]\n",
      " [0.68046641]\n",
      " [0.67982456]\n",
      " [0.72946085]\n",
      " [0.72154472]\n",
      " [0.74743261]\n",
      " [0.71170304]\n",
      " [0.02278562]\n",
      " [0.84060762]\n",
      " [0.76540436]]\n"
     ]
    }
   ],
   "source": [
    "#standardization for college GPA\n",
    "scaled_graduation_marks = scaler.fit_transform(df1['collegeGPA'].values.reshape(-1,1))\n",
    "\n",
    "print(scaled_graduation_marks[:10])"
   ]
  },
  {
   "cell_type": "code",
   "execution_count": 426,
   "id": "dd5a826d",
   "metadata": {},
   "outputs": [
    {
     "data": {
      "text/html": [
       "<div>\n",
       "<style scoped>\n",
       "    .dataframe tbody tr th:only-of-type {\n",
       "        vertical-align: middle;\n",
       "    }\n",
       "\n",
       "    .dataframe tbody tr th {\n",
       "        vertical-align: top;\n",
       "    }\n",
       "\n",
       "    .dataframe thead th {\n",
       "        text-align: right;\n",
       "    }\n",
       "</style>\n",
       "<table border=\"1\" class=\"dataframe\">\n",
       "  <thead>\n",
       "    <tr style=\"text-align: right;\">\n",
       "      <th></th>\n",
       "      <th>Gender_f</th>\n",
       "      <th>Gender_m</th>\n",
       "    </tr>\n",
       "  </thead>\n",
       "  <tbody>\n",
       "    <tr>\n",
       "      <th>0</th>\n",
       "      <td>1</td>\n",
       "      <td>0</td>\n",
       "    </tr>\n",
       "    <tr>\n",
       "      <th>1</th>\n",
       "      <td>0</td>\n",
       "      <td>1</td>\n",
       "    </tr>\n",
       "    <tr>\n",
       "      <th>2</th>\n",
       "      <td>1</td>\n",
       "      <td>0</td>\n",
       "    </tr>\n",
       "    <tr>\n",
       "      <th>3</th>\n",
       "      <td>0</td>\n",
       "      <td>1</td>\n",
       "    </tr>\n",
       "    <tr>\n",
       "      <th>4</th>\n",
       "      <td>0</td>\n",
       "      <td>1</td>\n",
       "    </tr>\n",
       "    <tr>\n",
       "      <th>...</th>\n",
       "      <td>...</td>\n",
       "      <td>...</td>\n",
       "    </tr>\n",
       "    <tr>\n",
       "      <th>3993</th>\n",
       "      <td>0</td>\n",
       "      <td>1</td>\n",
       "    </tr>\n",
       "    <tr>\n",
       "      <th>3994</th>\n",
       "      <td>1</td>\n",
       "      <td>0</td>\n",
       "    </tr>\n",
       "    <tr>\n",
       "      <th>3995</th>\n",
       "      <td>0</td>\n",
       "      <td>1</td>\n",
       "    </tr>\n",
       "    <tr>\n",
       "      <th>3996</th>\n",
       "      <td>1</td>\n",
       "      <td>0</td>\n",
       "    </tr>\n",
       "    <tr>\n",
       "      <th>3997</th>\n",
       "      <td>1</td>\n",
       "      <td>0</td>\n",
       "    </tr>\n",
       "  </tbody>\n",
       "</table>\n",
       "<p>3997 rows × 2 columns</p>\n",
       "</div>"
      ],
      "text/plain": [
       "      Gender_f  Gender_m\n",
       "0            1         0\n",
       "1            0         1\n",
       "2            1         0\n",
       "3            0         1\n",
       "4            0         1\n",
       "...        ...       ...\n",
       "3993         0         1\n",
       "3994         1         0\n",
       "3995         0         1\n",
       "3996         1         0\n",
       "3997         1         0\n",
       "\n",
       "[3997 rows x 2 columns]"
      ]
     },
     "execution_count": 426,
     "metadata": {},
     "output_type": "execute_result"
    }
   ],
   "source": [
    "# one-hot Encoding for Gender \n",
    "gender_dummies = pd.get_dummies(df1[['Gender']])\n",
    "gender_dummies"
   ]
  },
  {
   "cell_type": "code",
   "execution_count": 427,
   "id": "811afe6c",
   "metadata": {},
   "outputs": [
    {
     "data": {
      "text/html": [
       "<div>\n",
       "<style scoped>\n",
       "    .dataframe tbody tr th:only-of-type {\n",
       "        vertical-align: middle;\n",
       "    }\n",
       "\n",
       "    .dataframe tbody tr th {\n",
       "        vertical-align: top;\n",
       "    }\n",
       "\n",
       "    .dataframe thead th {\n",
       "        text-align: right;\n",
       "    }\n",
       "</style>\n",
       "<table border=\"1\" class=\"dataframe\">\n",
       "  <thead>\n",
       "    <tr style=\"text-align: right;\">\n",
       "      <th></th>\n",
       "      <th>Degree_B.Tech/B.E.</th>\n",
       "      <th>Degree_M.Sc. (Tech.)</th>\n",
       "      <th>Degree_M.Tech./M.E.</th>\n",
       "      <th>Degree_MCA</th>\n",
       "    </tr>\n",
       "  </thead>\n",
       "  <tbody>\n",
       "    <tr>\n",
       "      <th>0</th>\n",
       "      <td>1</td>\n",
       "      <td>0</td>\n",
       "      <td>0</td>\n",
       "      <td>0</td>\n",
       "    </tr>\n",
       "    <tr>\n",
       "      <th>1</th>\n",
       "      <td>1</td>\n",
       "      <td>0</td>\n",
       "      <td>0</td>\n",
       "      <td>0</td>\n",
       "    </tr>\n",
       "    <tr>\n",
       "      <th>2</th>\n",
       "      <td>1</td>\n",
       "      <td>0</td>\n",
       "      <td>0</td>\n",
       "      <td>0</td>\n",
       "    </tr>\n",
       "    <tr>\n",
       "      <th>3</th>\n",
       "      <td>1</td>\n",
       "      <td>0</td>\n",
       "      <td>0</td>\n",
       "      <td>0</td>\n",
       "    </tr>\n",
       "    <tr>\n",
       "      <th>4</th>\n",
       "      <td>1</td>\n",
       "      <td>0</td>\n",
       "      <td>0</td>\n",
       "      <td>0</td>\n",
       "    </tr>\n",
       "    <tr>\n",
       "      <th>...</th>\n",
       "      <td>...</td>\n",
       "      <td>...</td>\n",
       "      <td>...</td>\n",
       "      <td>...</td>\n",
       "    </tr>\n",
       "    <tr>\n",
       "      <th>3993</th>\n",
       "      <td>1</td>\n",
       "      <td>0</td>\n",
       "      <td>0</td>\n",
       "      <td>0</td>\n",
       "    </tr>\n",
       "    <tr>\n",
       "      <th>3994</th>\n",
       "      <td>1</td>\n",
       "      <td>0</td>\n",
       "      <td>0</td>\n",
       "      <td>0</td>\n",
       "    </tr>\n",
       "    <tr>\n",
       "      <th>3995</th>\n",
       "      <td>1</td>\n",
       "      <td>0</td>\n",
       "      <td>0</td>\n",
       "      <td>0</td>\n",
       "    </tr>\n",
       "    <tr>\n",
       "      <th>3996</th>\n",
       "      <td>1</td>\n",
       "      <td>0</td>\n",
       "      <td>0</td>\n",
       "      <td>0</td>\n",
       "    </tr>\n",
       "    <tr>\n",
       "      <th>3997</th>\n",
       "      <td>1</td>\n",
       "      <td>0</td>\n",
       "      <td>0</td>\n",
       "      <td>0</td>\n",
       "    </tr>\n",
       "  </tbody>\n",
       "</table>\n",
       "<p>3997 rows × 4 columns</p>\n",
       "</div>"
      ],
      "text/plain": [
       "      Degree_B.Tech/B.E.  Degree_M.Sc. (Tech.)  Degree_M.Tech./M.E.  \\\n",
       "0                      1                     0                    0   \n",
       "1                      1                     0                    0   \n",
       "2                      1                     0                    0   \n",
       "3                      1                     0                    0   \n",
       "4                      1                     0                    0   \n",
       "...                  ...                   ...                  ...   \n",
       "3993                   1                     0                    0   \n",
       "3994                   1                     0                    0   \n",
       "3995                   1                     0                    0   \n",
       "3996                   1                     0                    0   \n",
       "3997                   1                     0                    0   \n",
       "\n",
       "      Degree_MCA  \n",
       "0              0  \n",
       "1              0  \n",
       "2              0  \n",
       "3              0  \n",
       "4              0  \n",
       "...          ...  \n",
       "3993           0  \n",
       "3994           0  \n",
       "3995           0  \n",
       "3996           0  \n",
       "3997           0  \n",
       "\n",
       "[3997 rows x 4 columns]"
      ]
     },
     "execution_count": 427,
     "metadata": {},
     "output_type": "execute_result"
    }
   ],
   "source": [
    "# one-hot Encoding for Degree\n",
    "degree_dummies = pd.get_dummies(df1[['Degree']])\n",
    "degree_dummies"
   ]
  }
 ],
 "metadata": {
  "kernelspec": {
   "display_name": "Python 3 (ipykernel)",
   "language": "python",
   "name": "python3"
  },
  "language_info": {
   "codemirror_mode": {
    "name": "ipython",
    "version": 3
   },
   "file_extension": ".py",
   "mimetype": "text/x-python",
   "name": "python",
   "nbconvert_exporter": "python",
   "pygments_lexer": "ipython3",
   "version": "3.9.13"
  }
 },
 "nbformat": 4,
 "nbformat_minor": 5
}
